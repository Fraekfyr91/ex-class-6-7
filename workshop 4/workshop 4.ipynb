{
 "cells": [
  {
   "cell_type": "markdown",
   "metadata": {
    "slideshow": {
     "slide_type": "slide"
    }
   },
   "source": [
    "<img src=\"ku_logo_uk_v.png\" alt=\"drawing\" width=\"500\" style=\"float:right\"/>\n",
    "\n",
    "\n",
    "# Welcome to Workshop 4 - Introduction to Programming and Numerical Analysis !!!"
   ]
  },
  {
   "cell_type": "markdown",
   "metadata": {
    "slideshow": {
     "slide_type": "slide"
    }
   },
   "source": [
    "# Today\n",
    "- Optimization\n",
    "- Classes\n",
    "- Debugging\n",
    "- Excersize 1"
   ]
  },
  {
   "cell_type": "markdown",
   "metadata": {
    "slideshow": {
     "slide_type": "slide"
    }
   },
   "source": [
    "# Optimization !"
   ]
  },
  {
   "cell_type": "markdown",
   "metadata": {
    "slideshow": {
     "slide_type": "fragment"
    }
   },
   "source": [
    "## Example function:\n",
    "$$\n",
    "    f(x) = sin(x) + 0.05 * x^2 \n",
    "$$"
   ]
  },
  {
   "cell_type": "code",
   "execution_count": 1,
   "metadata": {
    "slideshow": {
     "slide_type": "fragment"
    }
   },
   "outputs": [],
   "source": [
    "import numpy as np # to use the sin function\n",
    "\n",
    "def f(x):\n",
    "    \"\"\"\n",
    "    Defines an equation.\n",
    "    \n",
    "    Args:\n",
    "    x (float): x value\n",
    "    \n",
    "    Returns:\n",
    "    func (float): Function value sinus x + 0.05 x^2 \n",
    "    \"\"\"\n",
    "    \n",
    "    func = np.sin(x)+0.05*x**2 \n",
    "    \n",
    "    return func\n",
    "\n",
    "    "
   ]
  },
  {
   "cell_type": "markdown",
   "metadata": {
    "slideshow": {
     "slide_type": "slide"
    }
   },
   "source": [
    "# Whats going on under the hood?\n",
    "- Largely depends on the method used!\n",
    "- BFGS: Newton based method (uses an approximation)\n",
    "- Nelder-Mead (direct search method uses a set of points to minimize the function) \n",
    "- Powell (a derivative-free method that uses a set of directions)\n",
    "- CG (gradient based method)\n",
    "- L-BFGS-B (limited-memory variant of the BFGS algorithm) \n",
    "- Gif shows the Nelder-Mead method\n",
    "\n",
    "<img src=\"nelder-mead.gif\" width=\"2000\" style=\"float:center\">\n"
   ]
  },
  {
   "cell_type": "code",
   "execution_count": 2,
   "metadata": {
    "slideshow": {
     "slide_type": "slide"
    }
   },
   "outputs": [
    {
     "name": "stdout",
     "output_type": "stream",
     "text": [
      "Using Method: Nelder-Mead \n",
      "\n",
      "-----------\n",
      "Optimization terminated successfully.\n",
      "Function = 1.7911;  x1 = -7.0689\n",
      "\n",
      " \n",
      "Using Method: BFGS \n",
      "\n",
      "-----------\n",
      "Optimization terminated successfully.\n",
      "Function = -0.8879;  x1 = -1.4276\n",
      "\n",
      " \n",
      "Using Method: Powell \n",
      "\n",
      "-----------\n",
      "Optimization terminated successfully.\n",
      "Function = -0.8879;  x1 = -1.4275\n",
      "\n",
      " \n",
      "Using Method: CG \n",
      "\n",
      "-----------\n",
      "Optimization terminated successfully.\n",
      "Function = -0.8879;  x1 = -1.4276\n",
      "\n",
      " \n",
      "Using Method: L-BFGS-B \n",
      "\n",
      "-----------\n",
      "CONVERGENCE: NORM_OF_PROJECTED_GRADIENT_<=_PGTOL\n",
      "Function = -0.8879;  x1 = -1.4276\n",
      "\n",
      " \n"
     ]
    }
   ],
   "source": [
    "from scipy import optimize\n",
    "\n",
    "x_guess = -10 # optimizer needs a starting point for the two values     \n",
    "obj = lambda x: f(x) #objective function to optimize - in this case minimize\n",
    "\n",
    "methods = [\"Nelder-Mead\", 'BFGS', 'Powell', 'CG', 'L-BFGS-B']\n",
    "for method in methods:\n",
    "    print(f'Using Method: {method} \\n')\n",
    "    #b.optimizing objective function \n",
    "    res = optimize.minimize(obj, x_guess, method=method)\n",
    "    print(\"-----------\")\n",
    "    print(res.message)\n",
    "\n",
    "    #c.unpacking results\n",
    "    x1_best_scipy = res.x[0]\n",
    "    f_best_scipy = res.fun\n",
    "\n",
    "    # d. print\n",
    "    print(f'Function = {f_best_scipy:.4f};  x1 = {x1_best_scipy:.4f}')\n",
    "    print('\\n ')\n",
    "    \n"
   ]
  },
  {
   "cell_type": "markdown",
   "metadata": {
    "slideshow": {
     "slide_type": "slide"
    }
   },
   "source": [
    "# The Classy implementation"
   ]
  },
  {
   "cell_type": "code",
   "execution_count": 3,
   "metadata": {
    "slideshow": {
     "slide_type": "fragment"
    }
   },
   "outputs": [],
   "source": [
    "import classy_mc_classface # same functions as before, now in a class\n",
    "# magic function that reloads the py file automaticly\n",
    "%reload_ext autoreload               \n",
    "%autoreload 2                      # updates the .py function everytime it changes, so restart of kernel is not needed\n",
    "\n",
    "\n"
   ]
  },
  {
   "cell_type": "code",
   "execution_count": 8,
   "metadata": {
    "slideshow": {
     "slide_type": "fragment"
    }
   },
   "outputs": [
    {
     "name": "stdout",
     "output_type": "stream",
     "text": [
      "-----------\n",
      "Optimization terminated successfully.\n",
      "-----------\n",
      "Using numerical solver the optimal values are:\n",
      "Function = -0.8879;  x1 = -1.4276\n"
     ]
    }
   ],
   "source": [
    "x_1, fx_1 = classy_mc_classface.optimum(guess = -0).solve(method = 'Nelder-Mead', disp = True)\n",
    "\n"
   ]
  },
  {
   "cell_type": "code",
   "execution_count": 10,
   "metadata": {
    "slideshow": {
     "slide_type": "fragment"
    }
   },
   "outputs": [
    {
     "data": {
      "image/png": "[encoded data removed]",
      "text/plain": [
       "<Figure size 1000x500 with 1 Axes>"
      ]
     },
     "metadata": {},
     "output_type": "display_data"
    }
   ],
   "source": [
    "classy_mc_classface.optimum(guess = 0, plot_start = -10).twod_plot(method = 'Nelder-Mead', disp = False)\n",
    "\n",
    "\n"
   ]
  },
  {
   "cell_type": "markdown",
   "metadata": {
    "slideshow": {
     "slide_type": "slide"
    }
   },
   "source": [
    "# Debugging"
   ]
  },
  {
   "cell_type": "markdown",
   "metadata": {
    "slideshow": {
     "slide_type": "fragment"
    }
   },
   "source": [
    "few tips for now\n",
    "- Restart your kernel and run all cells !!!\n",
    "- Run cell line by line\n",
    "- Use assert conditions or raise conditions"
   ]
  },
  {
   "cell_type": "code",
   "execution_count": 14,
   "metadata": {
    "slideshow": {
     "slide_type": "fragment"
    }
   },
   "outputs": [],
   "source": [
    "\n",
    "fx = f(1)\n",
    "#print(fx)\n",
    "#fx = f(100)\n",
    "# Assert condition error\n",
    "assert fx < 10 , f\"Error: x must be smaller than 10 but is {fx:6f}\"\n",
    "#fx = 'hej'\n",
    "if not isinstance(fx, (float, int)): # check the input is valid\n",
    "        raise TypeError(f\"Input must be a float or an int\")\n",
    "        \n",
    "        \n",
    "        "
   ]
  },
  {
   "cell_type": "markdown",
   "metadata": {
    "slideshow": {
     "slide_type": "slide"
    }
   },
   "source": [
    "# Problem set 1"
   ]
  }
 ],
 "metadata": {
  "celltoolbar": "Slideshow",
  "kernelspec": {
   "display_name": "Python 3 (ipykernel)",
   "language": "python",
   "name": "python3"
  },
  "language_info": {
   "codemirror_mode": {
    "name": "ipython",
    "version": 3
   },
   "file_extension": ".py",
   "mimetype": "text/x-python",
   "name": "python",
   "nbconvert_exporter": "python",
   "pygments_lexer": "ipython3",
   "version": "3.9.16"
  },
  "vscode": {
   "interpreter": {
    "hash": "49058cc55060abb4bc633e32186bb5153fb0a3058ff0315ffa5a851e9d943ce1"
   }
  }
 },
 "nbformat": 4,
 "nbformat_minor": 2
}
