{
 "cells": [
  {
   "cell_type": "markdown",
   "id": "76a4ee9f",
   "metadata": {
    "slideshow": {
     "slide_type": "slide"
    }
   },
   "source": [
    "# Warm Welcome to Introduction to Programming and Numerical Analysis 2023!"
   ]
  },
  {
   "cell_type": "markdown",
   "id": "326ad788",
   "metadata": {
    "slideshow": {
     "slide_type": "slide"
    }
   },
   "source": [
    "# Why \n",
    "\n",
    "- Valueable asset in the working world and your utility is increasing with your income\n",
    "- Great tools for your BA, Seminar and Master's thesis\n",
    "- Prepare for advanced Macro, Micro Economics, Household Behavior, Dynamic Programming and Social Data Sience course."
   ]
  },
  {
   "cell_type": "markdown",
   "id": "4a6d5346",
   "metadata": {
    "slideshow": {
     "slide_type": "slide"
    }
   },
   "source": [
    "# What\n",
    "\n",
    "- Analyze and model data \n",
    "- Create simulations\n",
    "- Interactive visualizations\n",
    "- much much more"
   ]
  },
  {
   "cell_type": "markdown",
   "id": "c1ddd17d",
   "metadata": {
    "slideshow": {
     "slide_type": "slide"
    }
   },
   "source": [
    "# How\n",
    "- Workshops\n",
    "- Projects\n",
    "- Peer feedback"
   ]
  },
  {
   "cell_type": "markdown",
   "id": "54f7a308",
   "metadata": {
    "slideshow": {
     "slide_type": "slide"
    }
   },
   "source": [
    "# About me\n",
    "\n",
    "### Name: Lasse Ramovic Laustrup\n",
    "### Contact: rcs266@econ.ku.dk\n",
    "### Slides: https://github.com/Fraekfyr91/ex-class-6-7\n",
    "\n",
    "- Tought this couse last year\n",
    "- Teaching statistics and quantitive methods at CBS\n",
    "- Working with Housing data at Bomae\n",
    "- Writting a Master's Thesis\n",
    "- Have tought Micro at CBS and Introduction to Social Data Sience here"
   ]
  },
  {
   "cell_type": "markdown",
   "id": "d3878b00",
   "metadata": {
    "slideshow": {
     "slide_type": "slide"
    }
   },
   "source": [
    "# The exercises\n",
    "\n",
    "## Remember: I am here to help you!\n",
    "- If you have some difficulties with DataCamp or the excercises fill free to ask what's going on!\n",
    "- If you have some questions you want to discuss private, use the E-mail\n",
    "- If you have some general questions, use the issues on github\n",
    "- You are in charge of your breaks"
   ]
  },
  {
   "cell_type": "markdown",
   "id": "81f53f1c",
   "metadata": {
    "slideshow": {
     "slide_type": "slide"
    }
   },
   "source": [
    "# Groups\n",
    "\n",
    "## Remember to setup your group repository in the github classroom\n"
   ]
  },
  {
   "cell_type": "markdown",
   "id": "dabbbbb5",
   "metadata": {
    "slideshow": {
     "slide_type": "slide"
    }
   },
   "source": [
    "# Today\n",
    "- Instalation party!\n",
    "- Intro to VS Code + Git\n",
    "- DataCamp"
   ]
  }
 ],
 "metadata": {
  "celltoolbar": "Slideshow",
  "kernelspec": {
   "display_name": "Python 3 (ipykernel)",
   "language": "python",
   "name": "python3"
  },
  "language_info": {
   "codemirror_mode": {
    "name": "ipython",
    "version": 3
   },
   "file_extension": ".py",
   "mimetype": "text/x-python",
   "name": "python",
   "nbconvert_exporter": "python",
   "pygments_lexer": "ipython3",
   "version": "3.9.16"
  },
  "vscode": {
   "interpreter": {
    "hash": "49058cc55060abb4bc633e32186bb5153fb0a3058ff0315ffa5a851e9d943ce1"
   }
  }
 },
 "nbformat": 4,
 "nbformat_minor": 5
}
