{
 "cells": [
  {
   "cell_type": "markdown",
   "metadata": {
    "slideshow": {
     "slide_type": "slide"
    }
   },
   "source": [
    "# Welcome to Workshop 3 - Introduction to Programming and Numerical Analysis !!!"
   ]
  },
  {
   "cell_type": "markdown",
   "metadata": {
    "slideshow": {
     "slide_type": "slide"
    }
   },
   "source": [
    "# Today\n",
    "- Notebook workflow follow up\n",
    "- datacamp"
   ]
  },
  {
   "cell_type": "code",
   "execution_count": null,
   "metadata": {
    "slideshow": {
     "slide_type": "slide"
    }
   },
   "outputs": [],
   "source": [
    "from workshopex import workshop_ex # Import the class with example from the .py file\n",
    "# magic function that reloads the py file automaticly\n",
    "%load_ext autoreload               \n",
    "%autoreload 2                      # updates the .py function everytime it changes, so restart of kernel is not needed\n",
    "\n"
   ]
  },
  {
   "cell_type": "code",
   "execution_count": null,
   "metadata": {
    "slideshow": {
     "slide_type": "slide"
    }
   },
   "outputs": [],
   "source": [
    "pdf = workshop_ex(mu = 1, sigma =1).PDF() # Calling on the function PDF, standard normal distribution function"
   ]
  },
  {
   "cell_type": "code",
   "execution_count": null,
   "metadata": {
    "slideshow": {
     "slide_type": "slide"
    }
   },
   "outputs": [],
   "source": [
    "cdf = workshop_ex(mu = 4, sigma =3 ).CDF() # calling Cumulatice distribution functuion"
   ]
  },
  {
   "cell_type": "code",
   "execution_count": null,
   "metadata": {
    "slideshow": {
     "slide_type": "slide"
    }
   },
   "outputs": [],
   "source": [
    "cdf, pdf_vals, grid = workshop_ex(mu = 4, sigma =3 ).CDF(pdf = True) # calling both cululative and probability "
   ]
  },
  {
   "cell_type": "code",
   "execution_count": null,
   "metadata": {
    "slideshow": {
     "slide_type": "slide"
    }
   },
   "outputs": [],
   "source": [
    "workshop_ex(mu = 1, sigma =1, tsigma=5 ).make_figure(savename = 'fig_name', lines = True) # make figure of pdf and cdf and save it"
   ]
  }
 ],
 "metadata": {
  "celltoolbar": "Slideshow",
  "kernelspec": {
   "display_name": "Python 3 (ipykernel)",
   "language": "python",
   "name": "python3"
  },
  "language_info": {
   "codemirror_mode": {
    "name": "ipython",
    "version": 3
   },
   "file_extension": ".py",
   "mimetype": "text/x-python",
   "name": "python",
   "nbconvert_exporter": "python",
   "pygments_lexer": "ipython3",
   "version": "3.9.16"
  },
  "vscode": {
   "interpreter": {
    "hash": "49058cc55060abb4bc633e32186bb5153fb0a3058ff0315ffa5a851e9d943ce1"
   }
  }
 },
 "nbformat": 4,
 "nbformat_minor": 2
}
