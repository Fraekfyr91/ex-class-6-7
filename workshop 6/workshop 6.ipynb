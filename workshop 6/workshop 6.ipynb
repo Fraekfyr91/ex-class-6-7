{
 "cells": [
  {
   "cell_type": "markdown",
   "metadata": {
    "slideshow": {
     "slide_type": "slide"
    }
   },
   "source": [
    "<img src=\"ku_logo_uk_v.png\" alt=\"drawing\" width=\"500\" style=\"float:right\"/>\n",
    "\n",
    "\n",
    "# Welcome to Workshop 6 - Introduction to Programming and Numerical Analysis !!!"
   ]
  },
  {
   "cell_type": "markdown",
   "metadata": {
    "slideshow": {
     "slide_type": "slide"
    }
   },
   "source": [
    "# Today\n",
    "- Last weeks' extra\n",
    "- InauguralProject\n",
    "- Optimizing example\n"
   ]
  },
  {
   "cell_type": "markdown",
   "metadata": {
    "slideshow": {
     "slide_type": "slide"
    }
   },
   "source": [
    "# Last weeks' extra\n",
    "- exchange economy with J > 2 goods"
   ]
  },
  {
   "cell_type": "code",
   "execution_count": 2,
   "metadata": {
    "slideshow": {
     "slide_type": "slide"
    }
   },
   "outputs": [],
   "source": [
    "%load_ext autoreload\n",
    "%autoreload 2\n",
    "import ps2extra\n",
    "import numpy as np\n",
    "\n"
   ]
  },
  {
   "cell_type": "code",
   "execution_count": 3,
   "metadata": {
    "slideshow": {
     "slide_type": "fragment"
    }
   },
   "outputs": [],
   "source": [
    "model = ps2extra.ps2extraclass()\n",
    "#model.par.ps = np.array([0.5, 0.7, 0.9, 1.1, 1])\n",
    "\n"
   ]
  },
  {
   "cell_type": "code",
   "execution_count": 4,
   "metadata": {
    "slideshow": {
     "slide_type": "fragment"
    }
   },
   "outputs": [
    {
     "data": {
      "text/plain": [
       "array([1.38098365, 1.90477341, 1.72915159, 1.01857013, 1.        ])"
      ]
     },
     "execution_count": 4,
     "metadata": {},
     "output_type": "execute_result"
    }
   ],
   "source": [
    "ps0 = model.par.ps.copy()\n",
    "ps0\n"
   ]
  },
  {
   "cell_type": "code",
   "execution_count": 5,
   "metadata": {
    "slideshow": {
     "slide_type": "fragment"
    }
   },
   "outputs": [],
   "source": [
    "#model.par\n",
    "\n"
   ]
  },
  {
   "cell_type": "code",
   "execution_count": 6,
   "metadata": {
    "slideshow": {
     "slide_type": "fragment"
    }
   },
   "outputs": [
    {
     "name": "stdout",
     "output_type": "stream",
     "text": [
      "  0: ps = [1.41994443 1.86323529 1.71267262 1.03659084 1.        ] -> excess demand ->   -51.78040342\n",
      "  1: ps = [1.45228605 1.8254627  1.69818676 1.04996749 1.        ] -> excess demand ->  -327.00877302\n",
      "  2: ps = [1.4792219  1.79112333 1.68531463 1.05978977 1.        ] -> excess demand ->  -522.66782367\n",
      "  3: ps = [1.50167947 1.75991628 1.67375853 1.06685561 1.        ] -> excess demand ->  -661.98728961\n",
      "  4: ps = [1.52038686 1.73156523 1.66328327 1.07176538 1.        ] -> excess demand ->  -760.45803891\n",
      "   ...\n",
      "100: ps = [1.4679359  1.36218269 1.42727    0.97142773 1.        ] -> excess demand ->   -73.88671714\n",
      "200: ps = [1.45486019 1.35043538 1.41509242 0.96376955 1.        ] -> excess demand ->    -3.23752455\n",
      "300: ps = [1.45429233 1.34992517 1.4145635  0.96343689 1.        ] -> excess demand ->    -0.13941419\n",
      "400: ps = [1.45426789 1.34990321 1.41454074 0.96342257 1.        ] -> excess demand ->    -0.00599890\n",
      "500: ps = [1.45426684 1.34990226 1.41453976 0.96342195 1.        ] -> excess demand ->    -0.00025812\n",
      "600: ps = [1.45426679 1.34990222 1.41453972 0.96342193 1.        ] -> excess demand ->    -0.00001111\n",
      "700: ps = [1.45426679 1.34990222 1.41453971 0.96342193 1.        ] -> excess demand ->    -0.00000048\n",
      "800: ps = [1.45426679 1.34990222 1.41453971 0.96342193 1.        ] -> excess demand ->    -0.00000002\n",
      "823: ps = [1.45426679 1.34990222 1.41453971 0.96342193 1.        ] -> excess demand ->    -0.00000001\n"
     ]
    }
   ],
   "source": [
    "model.find_equilibrium()\n",
    "\n",
    "\n"
   ]
  },
  {
   "cell_type": "code",
   "execution_count": 7,
   "metadata": {
    "slideshow": {
     "slide_type": "fragment"
    }
   },
   "outputs": [],
   "source": [
    "ps1 = model.par.ps\n",
    "\n"
   ]
  },
  {
   "cell_type": "code",
   "execution_count": null,
   "metadata": {},
   "outputs": [],
   "source": []
  },
  {
   "cell_type": "code",
   "execution_count": 8,
   "metadata": {
    "slideshow": {
     "slide_type": "fragment"
    }
   },
   "outputs": [
    {
     "data": {
      "text/plain": [
       "array([ 0.07328314, -0.55487119, -0.31461188, -0.05514821,  0.        ])"
      ]
     },
     "execution_count": 8,
     "metadata": {},
     "output_type": "execute_result"
    }
   ],
   "source": [
    "ps1-ps0\n",
    "\n"
   ]
  },
  {
   "cell_type": "markdown",
   "metadata": {
    "slideshow": {
     "slide_type": "slide"
    }
   },
   "source": [
    "# InauguralProject"
   ]
  },
  {
   "cell_type": "code",
   "execution_count": 9,
   "metadata": {
    "scrolled": true,
    "slideshow": {
     "slide_type": "fragment"
    }
   },
   "outputs": [
    {
     "name": "stdout",
     "output_type": "stream",
     "text": [
      "The autoreload extension is already loaded. To reload it, use:\n",
      "  %reload_ext autoreload\n"
     ]
    }
   ],
   "source": [
    "%load_ext autoreload\n",
    "%autoreload 2\n",
    "import HouseholdSpecializationModel as model\n",
    "hsm = model.HouseholdSpecializationModelClass()\n",
    "\n"
   ]
  },
  {
   "cell_type": "code",
   "execution_count": 10,
   "metadata": {},
   "outputs": [],
   "source": [
    "hsm.par.alpha = 0.7"
   ]
  },
  {
   "cell_type": "code",
   "execution_count": 11,
   "metadata": {
    "slideshow": {
     "slide_type": "fragment"
    }
   },
   "outputs": [
    {
     "name": "stdout",
     "output_type": "stream",
     "text": [
      "LM: 6.0 for alpha and sigma: (0.7, 1.0)\n"
     ]
    }
   ],
   "source": [
    "dsol = hsm.solve_discrete()\n",
    "print(f'LM: {dsol.LM} for alpha and sigma: {hsm.par.alpha, hsm.par.sigma}')\n",
    "\n",
    "\n",
    "\n",
    " "
   ]
  },
  {
   "cell_type": "markdown",
   "metadata": {
    "slideshow": {
     "slide_type": "fragment"
    }
   },
   "source": [
    "# Tips\n",
    "- Look at the lecture for constraint optimization\n",
    "- Look at the the class structures"
   ]
  },
  {
   "cell_type": "markdown",
   "metadata": {
    "slideshow": {
     "slide_type": "slide"
    }
   },
   "source": [
    "# Example of optimizing a function with bounds, constraints and multible variables"
   ]
  },
  {
   "cell_type": "code",
   "execution_count": 12,
   "metadata": {
    "slideshow": {
     "slide_type": "fragment"
    }
   },
   "outputs": [],
   "source": [
    "from scipy import optimize\n",
    "def objective(x):\n",
    "    value = np.sin(x[0]) + 0.05*x[1]**2 + np.abs(x[0]-x[2])\n",
    "    return value\n",
    "\n",
    "obj = lambda x: - objective(x)\n",
    "guess = [0]*3\n",
    "bounds = [(0,10)]*3\n",
    "# ii. optimizer\n",
    "result = optimize.minimize(obj,\n",
    "                            guess,\n",
    "                            method='SLSQP',\n",
    "                            bounds=bounds)\n",
    "\n"
   ]
  },
  {
   "cell_type": "code",
   "execution_count": 13,
   "metadata": {
    "slideshow": {
     "slide_type": "fragment"
    }
   },
   "outputs": [
    {
     "data": {
      "text/plain": [
       "     fun: -9.45597888911063\n",
       "     jac: array([-0.16092849,  0.        ,  1.        ])\n",
       " message: 'Optimization terminated successfully'\n",
       "    nfev: 32\n",
       "     nit: 8\n",
       "    njev: 8\n",
       "  status: 0\n",
       " success: True\n",
       "       x: array([1.00000000e+01, 1.54183108e-09, 0.00000000e+00])"
      ]
     },
     "execution_count": 13,
     "metadata": {},
     "output_type": "execute_result"
    }
   ],
   "source": [
    "result"
   ]
  },
  {
   "cell_type": "markdown",
   "metadata": {
    "slideshow": {
     "slide_type": "slide"
    }
   },
   "source": [
    "# Get your hands dirty"
   ]
  }
 ],
 "metadata": {
  "celltoolbar": "Slideshow",
  "kernelspec": {
   "display_name": "Python 3 (ipykernel)",
   "language": "python",
   "name": "python3"
  },
  "language_info": {
   "codemirror_mode": {
    "name": "ipython",
    "version": 3
   },
   "file_extension": ".py",
   "mimetype": "text/x-python",
   "name": "python",
   "nbconvert_exporter": "python",
   "pygments_lexer": "ipython3",
   "version": "3.9.16"
  }
 },
 "nbformat": 4,
 "nbformat_minor": 2
}
