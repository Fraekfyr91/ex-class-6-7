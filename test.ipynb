{
 "cells": [
  {
   "cell_type": "code",
   "execution_count": 1,
   "metadata": {},
   "outputs": [],
   "source": [
    "from test import new_class\n",
    "import numpy as np"
   ]
  },
  {
   "cell_type": "code",
   "execution_count": 2,
   "metadata": {},
   "outputs": [
    {
     "name": "stdout",
     "output_type": "stream",
     "text": [
      " hello hello\n",
      " hello hello hello\n",
      " hello hello hello hello\n",
      " hello hello hello hello hello\n",
      " hello hello hello hello hello hello\n",
      " hello hello hello hello hello hello hello\n"
     ]
    }
   ],
   "source": [
    "new_class().print_something(sentence= ' hello')"
   ]
  },
  {
   "cell_type": "code",
   "execution_count": 3,
   "metadata": {},
   "outputs": [
    {
     "name": "stdout",
     "output_type": "stream",
     "text": [
      " Hello is it me you're looking for? \n",
      " Hello is it me you're looking for?  Hello is it me you're looking for? \n"
     ]
    }
   ],
   "source": [
    "new_class(b= 1, a = 3).print_something(\" Hello is it me you're looking for? \")"
   ]
  },
  {
   "cell_type": "code",
   "execution_count": null,
   "metadata": {},
   "outputs": [],
   "source": []
  }
 ],
 "metadata": {
  "kernelspec": {
   "display_name": "base",
   "language": "python",
   "name": "python3"
  },
  "language_info": {
   "codemirror_mode": {
    "name": "ipython",
    "version": 3
   },
   "file_extension": ".py",
   "mimetype": "text/x-python",
   "name": "python",
   "nbconvert_exporter": "python",
   "pygments_lexer": "ipython3",
   "version": "3.9.16"
  },
  "orig_nbformat": 4,
  "vscode": {
   "interpreter": {
    "hash": "49058cc55060abb4bc633e32186bb5153fb0a3058ff0315ffa5a851e9d943ce1"
   }
  }
 },
 "nbformat": 4,
 "nbformat_minor": 2
}
