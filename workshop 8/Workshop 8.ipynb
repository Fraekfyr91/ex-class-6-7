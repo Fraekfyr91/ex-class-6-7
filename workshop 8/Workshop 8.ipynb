{
 "cells": [
  {
   "attachments": {},
   "cell_type": "markdown",
   "metadata": {},
   "source": [
    "<img src=\"ku_logo_uk_v.png\" alt=\"drawing\" width=\"500\" style=\"float:right\"/>\n",
    "\n",
    "\n",
    "# Welcome to Workshop 8 - Introduction to Programming and Numerical Analysis !!!"
   ]
  },
  {
   "attachments": {},
   "cell_type": "markdown",
   "metadata": {},
   "source": [
    "# Today\n",
    "- API's\n",
    "- Pandas Merges\n",
    "- Split-Apply-Combine"
   ]
  },
  {
   "cell_type": "markdown",
   "metadata": {},
   "source": [
    "# Statistics Denmark API"
   ]
  },
  {
   "cell_type": "markdown",
   "metadata": {},
   "source": [
    "## Read the docs\n",
    "https://pydst.readthedocs.io/en/latest/pydst.html"
   ]
  },
  {
   "cell_type": "code",
   "execution_count": null,
   "metadata": {},
   "outputs": [],
   "source": [
    "import pydst\n",
    "dst = pydst.Dst(lang='en') # import statistics denmarks api\n",
    "tab = 'INDKP101' # some income table\n",
    "variables  = dst.get_variables(table_id = tab) # investigate the options\n",
    "variables.id.values"
   ]
  },
  {
   "cell_type": "code",
   "execution_count": null,
   "metadata": {},
   "outputs": [],
   "source": [
    "selected_vars = {'ENHED':['*'], \n",
    "                 'KOEN':['*'],\n",
    "                 'Tid':['*']} # select some stuff"
   ]
  },
  {
   "cell_type": "code",
   "execution_count": null,
   "metadata": {},
   "outputs": [],
   "source": [
    "df = dst.get_data(table_id=tab, \n",
    "                   variables=selected_vars) # get the data\n",
    "df.sample(10) "
   ]
  },
  {
   "cell_type": "code",
   "execution_count": null,
   "metadata": {},
   "outputs": [],
   "source": [
    "df.ENHED.value_counts() # investigate income types"
   ]
  },
  {
   "cell_type": "code",
   "execution_count": null,
   "metadata": {},
   "outputs": [],
   "source": [
    "df = df[df.ENHED == 'Average income for all people (DKK)'] # subset the dataset\n",
    "df.sample(10)"
   ]
  },
  {
   "cell_type": "code",
   "execution_count": null,
   "metadata": {},
   "outputs": [],
   "source": [
    "tab2 = 'PRIS112' # yet another table, this time with inflation\n",
    "variables2  = dst.get_variables(table_id = tab2) # investigate the content\n",
    "variables2.id.values"
   ]
  },
  {
   "cell_type": "code",
   "execution_count": null,
   "metadata": {},
   "outputs": [],
   "source": [
    "selected_vars2 = {'HOVED':['*'], \n",
    "                 'Tid':['*']} # select stuff"
   ]
  },
  {
   "cell_type": "code",
   "execution_count": null,
   "metadata": {},
   "outputs": [],
   "source": [
    "df2 = dst.get_data(table_id=tab2, \n",
    "                   variables=selected_vars2) # get the data\n",
    "df2.sample(10)"
   ]
  },
  {
   "cell_type": "code",
   "execution_count": null,
   "metadata": {},
   "outputs": [],
   "source": [
    "df2 = df2[df2.HOVED == 'Average, yearly'] # subset the data\n",
    "df2.tail()"
   ]
  },
  {
   "attachments": {},
   "cell_type": "markdown",
   "metadata": {},
   "source": [
    "# Merging two data sets\n",
    "\n",
    "## Your new favorite website\n",
    "- https://pandas.pydata.org/pandas-docs/stable/user_guide/merging.html"
   ]
  },
  {
   "cell_type": "code",
   "execution_count": null,
   "metadata": {},
   "outputs": [],
   "source": [
    "import pandas as pd"
   ]
  },
  {
   "cell_type": "code",
   "execution_count": null,
   "metadata": {},
   "outputs": [],
   "source": [
    "result = pd.merge(df, df2, how=\"left\", on=[\"TID\"]) # can be left, right, outer, inner etc."
   ]
  },
  {
   "attachments": {},
   "cell_type": "markdown",
   "metadata": {},
   "source": [
    "# Split-Apply-Combine"
   ]
  },
  {
   "cell_type": "code",
   "execution_count": null,
   "metadata": {},
   "outputs": [],
   "source": [
    "# a. split\n",
    "res_grouped = result.groupby(['KOEN', 'TID']) # group by gender and year\n"
   ]
  },
  {
   "cell_type": "code",
   "execution_count": null,
   "metadata": {},
   "outputs": [],
   "source": [
    "# b. apply\n",
    "res_app = res_grouped.apply(lambda x: ( x['INDHOLD_x'] / x['INDHOLD_y']).sum()) # divide income w. inflation\n",
    "res_app"
   ]
  },
  {
   "cell_type": "code",
   "execution_count": null,
   "metadata": {},
   "outputs": [],
   "source": [
    "\n",
    "# c. combine\n",
    "result = res_app.unstack() # unstack the tables\n",
    "result"
   ]
  },
  {
   "cell_type": "code",
   "execution_count": null,
   "metadata": {},
   "outputs": [],
   "source": [
    "result.T.plot() #  transpose and plot"
   ]
  },
  {
   "cell_type": "markdown",
   "metadata": {},
   "source": [
    "# Time for problem set 4"
   ]
  }
 ],
 "metadata": {
  "kernelspec": {
   "display_name": "base",
   "language": "python",
   "name": "python3"
  },
  "language_info": {
   "codemirror_mode": {
    "name": "ipython",
    "version": 3
   },
   "file_extension": ".py",
   "mimetype": "text/x-python",
   "name": "python",
   "nbconvert_exporter": "python",
   "pygments_lexer": "ipython3",
   "version": "3.9.16"
  },
  "orig_nbformat": 4
 },
 "nbformat": 4,
 "nbformat_minor": 2
}
