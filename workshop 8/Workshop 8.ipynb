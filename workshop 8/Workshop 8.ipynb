{
 "cells": [
  {
   "cell_type": "markdown",
   "metadata": {
    "slideshow": {
     "slide_type": "slide"
    }
   },
   "source": [
    "<img src=\"ku_logo_uk_v.png\" alt=\"drawing\" width=\"500\" style=\"float:right\"/>\n",
    "\n",
    "\n",
    "# Welcome to Workshop 8 - Introduction to Programming and Numerical Analysis !!!"
   ]
  },
  {
   "cell_type": "markdown",
   "metadata": {
    "slideshow": {
     "slide_type": "slide"
    }
   },
   "source": [
    "# Today\n",
    "- API's\n",
    "- Pandas Merges\n",
    "- Split-Apply-Combine"
   ]
  },
  {
   "cell_type": "markdown",
   "metadata": {
    "slideshow": {
     "slide_type": "slide"
    }
   },
   "source": [
    "# Statistics Denmark API"
   ]
  },
  {
   "cell_type": "markdown",
   "metadata": {
    "slideshow": {
     "slide_type": "fragment"
    }
   },
   "source": [
    "## Read the docs\n",
    "https://pydst.readthedocs.io/en/latest/pydst.html"
   ]
  },
  {
   "cell_type": "code",
   "execution_count": 1,
   "metadata": {
    "slideshow": {
     "slide_type": "fragment"
    }
   },
   "outputs": [],
   "source": [
    "#%pip install git+https://github.com/elben10/pydst\n",
    "#pip install pydst\n",
    "\n"
   ]
  },
  {
   "cell_type": "code",
   "execution_count": 3,
   "metadata": {
    "slideshow": {
     "slide_type": "fragment"
    }
   },
   "outputs": [
    {
     "data": {
      "text/plain": [
       "array(['OMRÅDE', 'ENHED', 'KOEN', 'INDKOMSTTYPE', 'Tid'], dtype=object)"
      ]
     },
     "execution_count": 3,
     "metadata": {},
     "output_type": "execute_result"
    }
   ],
   "source": [
    "import pydst\n",
    "dst = pydst.Dst(lang='en') # import statistics denmarks api\n",
    "tab = 'INDKP101' # some income table\n",
    "variables  = dst.get_variables(table_id = tab) # investigate the options\n",
    "variables.id.values\n",
    "\n"
   ]
  },
  {
   "cell_type": "code",
   "execution_count": 5,
   "metadata": {
    "slideshow": {
     "slide_type": "fragment"
    }
   },
   "outputs": [],
   "source": [
    "selected_vars = {'ENHED':['*'], \n",
    "                 'KOEN':['*'],\n",
    "                 'Tid':['*']} # select some stuff\n",
    "\n"
   ]
  },
  {
   "cell_type": "code",
   "execution_count": 6,
   "metadata": {
    "scrolled": true,
    "slideshow": {
     "slide_type": "fragment"
    }
   },
   "outputs": [
    {
     "data": {
      "text/html": [
       "<div>\n",
       "<style scoped>\n",
       "    .dataframe tbody tr th:only-of-type {\n",
       "        vertical-align: middle;\n",
       "    }\n",
       "\n",
       "    .dataframe tbody tr th {\n",
       "        vertical-align: top;\n",
       "    }\n",
       "\n",
       "    .dataframe thead th {\n",
       "        text-align: right;\n",
       "    }\n",
       "</style>\n",
       "<table border=\"1\" class=\"dataframe\">\n",
       "  <thead>\n",
       "    <tr style=\"text-align: right;\">\n",
       "      <th></th>\n",
       "      <th>ENHED</th>\n",
       "      <th>KOEN</th>\n",
       "      <th>TID</th>\n",
       "      <th>OMRÅDE</th>\n",
       "      <th>INDKOMSTTYPE</th>\n",
       "      <th>INDHOLD</th>\n",
       "    </tr>\n",
       "  </thead>\n",
       "  <tbody>\n",
       "    <tr>\n",
       "      <th>349</th>\n",
       "      <td>People with type of income (number)</td>\n",
       "      <td>Men</td>\n",
       "      <td>2016</td>\n",
       "      <td>All Denmark</td>\n",
       "      <td>1 Disposable income (2+30-31-32-35)</td>\n",
       "      <td>2313898</td>\n",
       "    </tr>\n",
       "    <tr>\n",
       "      <th>195</th>\n",
       "      <td>Amount of income (DKK 1.000)</td>\n",
       "      <td>Women</td>\n",
       "      <td>2003</td>\n",
       "      <td>All Denmark</td>\n",
       "      <td>1 Disposable income (2+30-31-32-35)</td>\n",
       "      <td>302419166</td>\n",
       "    </tr>\n",
       "    <tr>\n",
       "      <th>46</th>\n",
       "      <td>Average income for people with type of income ...</td>\n",
       "      <td>Men</td>\n",
       "      <td>1990</td>\n",
       "      <td>All Denmark</td>\n",
       "      <td>1 Disposable income (2+30-31-32-35)</td>\n",
       "      <td>101365</td>\n",
       "    </tr>\n",
       "    <tr>\n",
       "      <th>199</th>\n",
       "      <td>Average income for all people (DKK)</td>\n",
       "      <td>Men</td>\n",
       "      <td>2003</td>\n",
       "      <td>All Denmark</td>\n",
       "      <td>1 Disposable income (2+30-31-32-35)</td>\n",
       "      <td>166246</td>\n",
       "    </tr>\n",
       "    <tr>\n",
       "      <th>166</th>\n",
       "      <td>Average income for people with type of income ...</td>\n",
       "      <td>Men</td>\n",
       "      <td>2000</td>\n",
       "      <td>All Denmark</td>\n",
       "      <td>1 Disposable income (2+30-31-32-35)</td>\n",
       "      <td>153734</td>\n",
       "    </tr>\n",
       "    <tr>\n",
       "      <th>73</th>\n",
       "      <td>People with type of income (number)</td>\n",
       "      <td>Men</td>\n",
       "      <td>1993</td>\n",
       "      <td>All Denmark</td>\n",
       "      <td>1 Disposable income (2+30-31-32-35)</td>\n",
       "      <td>2079010</td>\n",
       "    </tr>\n",
       "    <tr>\n",
       "      <th>206</th>\n",
       "      <td>People with type of income (number)</td>\n",
       "      <td>Men and women, total</td>\n",
       "      <td>2004</td>\n",
       "      <td>All Denmark</td>\n",
       "      <td>1 Disposable income (2+30-31-32-35)</td>\n",
       "      <td>4328959</td>\n",
       "    </tr>\n",
       "    <tr>\n",
       "      <th>1</th>\n",
       "      <td>People with type of income (number)</td>\n",
       "      <td>Men</td>\n",
       "      <td>1987</td>\n",
       "      <td>All Denmark</td>\n",
       "      <td>1 Disposable income (2+30-31-32-35)</td>\n",
       "      <td>2038941</td>\n",
       "    </tr>\n",
       "    <tr>\n",
       "      <th>245</th>\n",
       "      <td>Amount of income (DKK 1.000)</td>\n",
       "      <td>Men and women, total</td>\n",
       "      <td>2007</td>\n",
       "      <td>All Denmark</td>\n",
       "      <td>1 Disposable income (2+30-31-32-35)</td>\n",
       "      <td>783448533</td>\n",
       "    </tr>\n",
       "    <tr>\n",
       "      <th>202</th>\n",
       "      <td>Average income for people with type of income ...</td>\n",
       "      <td>Men</td>\n",
       "      <td>2003</td>\n",
       "      <td>All Denmark</td>\n",
       "      <td>1 Disposable income (2+30-31-32-35)</td>\n",
       "      <td>167149</td>\n",
       "    </tr>\n",
       "  </tbody>\n",
       "</table>\n",
       "</div>"
      ],
      "text/plain": [
       "                                                 ENHED                  KOEN  \\\n",
       "349                People with type of income (number)                   Men   \n",
       "195                       Amount of income (DKK 1.000)                 Women   \n",
       "46   Average income for people with type of income ...                   Men   \n",
       "199                Average income for all people (DKK)                   Men   \n",
       "166  Average income for people with type of income ...                   Men   \n",
       "73                 People with type of income (number)                   Men   \n",
       "206                People with type of income (number)  Men and women, total   \n",
       "1                  People with type of income (number)                   Men   \n",
       "245                       Amount of income (DKK 1.000)  Men and women, total   \n",
       "202  Average income for people with type of income ...                   Men   \n",
       "\n",
       "      TID       OMRÅDE                         INDKOMSTTYPE    INDHOLD  \n",
       "349  2016  All Denmark  1 Disposable income (2+30-31-32-35)    2313898  \n",
       "195  2003  All Denmark  1 Disposable income (2+30-31-32-35)  302419166  \n",
       "46   1990  All Denmark  1 Disposable income (2+30-31-32-35)     101365  \n",
       "199  2003  All Denmark  1 Disposable income (2+30-31-32-35)     166246  \n",
       "166  2000  All Denmark  1 Disposable income (2+30-31-32-35)     153734  \n",
       "73   1993  All Denmark  1 Disposable income (2+30-31-32-35)    2079010  \n",
       "206  2004  All Denmark  1 Disposable income (2+30-31-32-35)    4328959  \n",
       "1    1987  All Denmark  1 Disposable income (2+30-31-32-35)    2038941  \n",
       "245  2007  All Denmark  1 Disposable income (2+30-31-32-35)  783448533  \n",
       "202  2003  All Denmark  1 Disposable income (2+30-31-32-35)     167149  "
      ]
     },
     "execution_count": 6,
     "metadata": {},
     "output_type": "execute_result"
    }
   ],
   "source": [
    "df = dst.get_data(table_id=tab, \n",
    "                   variables=selected_vars) # get the data\n",
    "df.sample(10) \n",
    "\n"
   ]
  },
  {
   "cell_type": "code",
   "execution_count": 7,
   "metadata": {
    "slideshow": {
     "slide_type": "fragment"
    }
   },
   "outputs": [
    {
     "data": {
      "text/plain": [
       "People with type of income (number)                    105\n",
       "Amount of income (DKK 1.000)                           105\n",
       "Average income for all people (DKK)                    105\n",
       "Average income for people with type of income (DKK)    105\n",
       "Name: ENHED, dtype: int64"
      ]
     },
     "execution_count": 7,
     "metadata": {},
     "output_type": "execute_result"
    }
   ],
   "source": [
    "df.ENHED.value_counts() # investigate income types\n",
    "\n"
   ]
  },
  {
   "cell_type": "code",
   "execution_count": 8,
   "metadata": {
    "scrolled": true,
    "slideshow": {
     "slide_type": "fragment"
    }
   },
   "outputs": [
    {
     "data": {
      "text/html": [
       "<div>\n",
       "<style scoped>\n",
       "    .dataframe tbody tr th:only-of-type {\n",
       "        vertical-align: middle;\n",
       "    }\n",
       "\n",
       "    .dataframe tbody tr th {\n",
       "        vertical-align: top;\n",
       "    }\n",
       "\n",
       "    .dataframe thead th {\n",
       "        text-align: right;\n",
       "    }\n",
       "</style>\n",
       "<table border=\"1\" class=\"dataframe\">\n",
       "  <thead>\n",
       "    <tr style=\"text-align: right;\">\n",
       "      <th></th>\n",
       "      <th>ENHED</th>\n",
       "      <th>KOEN</th>\n",
       "      <th>TID</th>\n",
       "      <th>OMRÅDE</th>\n",
       "      <th>INDKOMSTTYPE</th>\n",
       "      <th>INDHOLD</th>\n",
       "    </tr>\n",
       "  </thead>\n",
       "  <tbody>\n",
       "    <tr>\n",
       "      <th>282</th>\n",
       "      <td>Average income for all people (DKK)</td>\n",
       "      <td>Women</td>\n",
       "      <td>2010</td>\n",
       "      <td>All Denmark</td>\n",
       "      <td>1 Disposable income (2+30-31-32-35)</td>\n",
       "      <td>179725</td>\n",
       "    </tr>\n",
       "    <tr>\n",
       "      <th>366</th>\n",
       "      <td>Average income for all people (DKK)</td>\n",
       "      <td>Women</td>\n",
       "      <td>2017</td>\n",
       "      <td>All Denmark</td>\n",
       "      <td>1 Disposable income (2+30-31-32-35)</td>\n",
       "      <td>207324</td>\n",
       "    </tr>\n",
       "    <tr>\n",
       "      <th>114</th>\n",
       "      <td>Average income for all people (DKK)</td>\n",
       "      <td>Women</td>\n",
       "      <td>1996</td>\n",
       "      <td>All Denmark</td>\n",
       "      <td>1 Disposable income (2+30-31-32-35)</td>\n",
       "      <td>104161</td>\n",
       "    </tr>\n",
       "    <tr>\n",
       "      <th>92</th>\n",
       "      <td>Average income for all people (DKK)</td>\n",
       "      <td>Men and women, total</td>\n",
       "      <td>1994</td>\n",
       "      <td>All Denmark</td>\n",
       "      <td>1 Disposable income (2+30-31-32-35)</td>\n",
       "      <td>107810</td>\n",
       "    </tr>\n",
       "    <tr>\n",
       "      <th>140</th>\n",
       "      <td>Average income for all people (DKK)</td>\n",
       "      <td>Men and women, total</td>\n",
       "      <td>1998</td>\n",
       "      <td>All Denmark</td>\n",
       "      <td>1 Disposable income (2+30-31-32-35)</td>\n",
       "      <td>127671</td>\n",
       "    </tr>\n",
       "  </tbody>\n",
       "</table>\n",
       "</div>"
      ],
      "text/plain": [
       "                                   ENHED                  KOEN   TID  \\\n",
       "282  Average income for all people (DKK)                 Women  2010   \n",
       "366  Average income for all people (DKK)                 Women  2017   \n",
       "114  Average income for all people (DKK)                 Women  1996   \n",
       "92   Average income for all people (DKK)  Men and women, total  1994   \n",
       "140  Average income for all people (DKK)  Men and women, total  1998   \n",
       "\n",
       "          OMRÅDE                         INDKOMSTTYPE  INDHOLD  \n",
       "282  All Denmark  1 Disposable income (2+30-31-32-35)   179725  \n",
       "366  All Denmark  1 Disposable income (2+30-31-32-35)   207324  \n",
       "114  All Denmark  1 Disposable income (2+30-31-32-35)   104161  \n",
       "92   All Denmark  1 Disposable income (2+30-31-32-35)   107810  \n",
       "140  All Denmark  1 Disposable income (2+30-31-32-35)   127671  "
      ]
     },
     "execution_count": 8,
     "metadata": {},
     "output_type": "execute_result"
    }
   ],
   "source": [
    "df = df[df.ENHED == 'Average income for all people (DKK)'] # subset the dataset\n",
    "df.sample(5)\n",
    "\n"
   ]
  },
  {
   "cell_type": "code",
   "execution_count": 9,
   "metadata": {
    "slideshow": {
     "slide_type": "slide"
    }
   },
   "outputs": [
    {
     "data": {
      "text/plain": [
       "array(['HOVED', 'Tid'], dtype=object)"
      ]
     },
     "execution_count": 9,
     "metadata": {},
     "output_type": "execute_result"
    }
   ],
   "source": [
    "tab2 = 'PRIS112' # yet another table, this time with inflation\n",
    "variables2  = dst.get_variables(table_id = tab2) # investigate the content\n",
    "variables2.id.values\n",
    "\n"
   ]
  },
  {
   "cell_type": "code",
   "execution_count": 10,
   "metadata": {
    "slideshow": {
     "slide_type": "fragment"
    }
   },
   "outputs": [],
   "source": [
    "selected_vars2 = {'HOVED':['*'], \n",
    "                 'Tid':['*']} # select stuff\n",
    "\n"
   ]
  },
  {
   "cell_type": "code",
   "execution_count": 11,
   "metadata": {
    "slideshow": {
     "slide_type": "fragment"
    }
   },
   "outputs": [
    {
     "data": {
      "text/html": [
       "<div>\n",
       "<style scoped>\n",
       "    .dataframe tbody tr th:only-of-type {\n",
       "        vertical-align: middle;\n",
       "    }\n",
       "\n",
       "    .dataframe tbody tr th {\n",
       "        vertical-align: top;\n",
       "    }\n",
       "\n",
       "    .dataframe thead th {\n",
       "        text-align: right;\n",
       "    }\n",
       "</style>\n",
       "<table border=\"1\" class=\"dataframe\">\n",
       "  <thead>\n",
       "    <tr style=\"text-align: right;\">\n",
       "      <th></th>\n",
       "      <th>HOVED</th>\n",
       "      <th>TID</th>\n",
       "      <th>INDHOLD</th>\n",
       "    </tr>\n",
       "  </thead>\n",
       "  <tbody>\n",
       "    <tr>\n",
       "      <th>14</th>\n",
       "      <td>Average, yearly</td>\n",
       "      <td>1987</td>\n",
       "      <td>54.9</td>\n",
       "    </tr>\n",
       "    <tr>\n",
       "      <th>65</th>\n",
       "      <td>Annual increase</td>\n",
       "      <td>2012</td>\n",
       "      <td>2.4</td>\n",
       "    </tr>\n",
       "    <tr>\n",
       "      <th>31</th>\n",
       "      <td>Annual increase</td>\n",
       "      <td>1995</td>\n",
       "      <td>2.1</td>\n",
       "    </tr>\n",
       "    <tr>\n",
       "      <th>45</th>\n",
       "      <td>Annual increase</td>\n",
       "      <td>2002</td>\n",
       "      <td>2.4</td>\n",
       "    </tr>\n",
       "    <tr>\n",
       "      <th>20</th>\n",
       "      <td>Average, yearly</td>\n",
       "      <td>1990</td>\n",
       "      <td>61.7</td>\n",
       "    </tr>\n",
       "    <tr>\n",
       "      <th>72</th>\n",
       "      <td>Average, yearly</td>\n",
       "      <td>2016</td>\n",
       "      <td>100.3</td>\n",
       "    </tr>\n",
       "    <tr>\n",
       "      <th>28</th>\n",
       "      <td>Average, yearly</td>\n",
       "      <td>1994</td>\n",
       "      <td>66.6</td>\n",
       "    </tr>\n",
       "    <tr>\n",
       "      <th>41</th>\n",
       "      <td>Annual increase</td>\n",
       "      <td>2000</td>\n",
       "      <td>2.9</td>\n",
       "    </tr>\n",
       "    <tr>\n",
       "      <th>26</th>\n",
       "      <td>Average, yearly</td>\n",
       "      <td>1993</td>\n",
       "      <td>65.3</td>\n",
       "    </tr>\n",
       "    <tr>\n",
       "      <th>5</th>\n",
       "      <td>Annual increase</td>\n",
       "      <td>1982</td>\n",
       "      <td>10.1</td>\n",
       "    </tr>\n",
       "  </tbody>\n",
       "</table>\n",
       "</div>"
      ],
      "text/plain": [
       "              HOVED   TID  INDHOLD\n",
       "14  Average, yearly  1987     54.9\n",
       "65  Annual increase  2012      2.4\n",
       "31  Annual increase  1995      2.1\n",
       "45  Annual increase  2002      2.4\n",
       "20  Average, yearly  1990     61.7\n",
       "72  Average, yearly  2016    100.3\n",
       "28  Average, yearly  1994     66.6\n",
       "41  Annual increase  2000      2.9\n",
       "26  Average, yearly  1993     65.3\n",
       "5   Annual increase  1982     10.1"
      ]
     },
     "execution_count": 11,
     "metadata": {},
     "output_type": "execute_result"
    }
   ],
   "source": [
    "df2 = dst.get_data(table_id=tab2, \n",
    "                   variables=selected_vars2) # get the data\n",
    "df2.sample(10)\n",
    "\n"
   ]
  },
  {
   "cell_type": "code",
   "execution_count": 12,
   "metadata": {
    "slideshow": {
     "slide_type": "fragment"
    }
   },
   "outputs": [
    {
     "data": {
      "text/html": [
       "<div>\n",
       "<style scoped>\n",
       "    .dataframe tbody tr th:only-of-type {\n",
       "        vertical-align: middle;\n",
       "    }\n",
       "\n",
       "    .dataframe tbody tr th {\n",
       "        vertical-align: top;\n",
       "    }\n",
       "\n",
       "    .dataframe thead th {\n",
       "        text-align: right;\n",
       "    }\n",
       "</style>\n",
       "<table border=\"1\" class=\"dataframe\">\n",
       "  <thead>\n",
       "    <tr style=\"text-align: right;\">\n",
       "      <th></th>\n",
       "      <th>HOVED</th>\n",
       "      <th>TID</th>\n",
       "      <th>INDHOLD</th>\n",
       "    </tr>\n",
       "  </thead>\n",
       "  <tbody>\n",
       "    <tr>\n",
       "      <th>76</th>\n",
       "      <td>Average, yearly</td>\n",
       "      <td>2018</td>\n",
       "      <td>102.2</td>\n",
       "    </tr>\n",
       "    <tr>\n",
       "      <th>78</th>\n",
       "      <td>Average, yearly</td>\n",
       "      <td>2019</td>\n",
       "      <td>103.0</td>\n",
       "    </tr>\n",
       "    <tr>\n",
       "      <th>80</th>\n",
       "      <td>Average, yearly</td>\n",
       "      <td>2020</td>\n",
       "      <td>103.4</td>\n",
       "    </tr>\n",
       "    <tr>\n",
       "      <th>82</th>\n",
       "      <td>Average, yearly</td>\n",
       "      <td>2021</td>\n",
       "      <td>105.4</td>\n",
       "    </tr>\n",
       "    <tr>\n",
       "      <th>84</th>\n",
       "      <td>Average, yearly</td>\n",
       "      <td>2022</td>\n",
       "      <td>113.5</td>\n",
       "    </tr>\n",
       "  </tbody>\n",
       "</table>\n",
       "</div>"
      ],
      "text/plain": [
       "              HOVED   TID  INDHOLD\n",
       "76  Average, yearly  2018    102.2\n",
       "78  Average, yearly  2019    103.0\n",
       "80  Average, yearly  2020    103.4\n",
       "82  Average, yearly  2021    105.4\n",
       "84  Average, yearly  2022    113.5"
      ]
     },
     "execution_count": 12,
     "metadata": {},
     "output_type": "execute_result"
    }
   ],
   "source": [
    "df2 = df2[df2.HOVED == 'Average, yearly'] # subset the data\n",
    "df2.tail()\n",
    "\n"
   ]
  },
  {
   "cell_type": "markdown",
   "metadata": {
    "slideshow": {
     "slide_type": "slide"
    }
   },
   "source": [
    "# Merging two data sets\n",
    "\n",
    "## Your new favorite website\n",
    "- https://pandas.pydata.org/pandas-docs/stable/user_guide/merging.html"
   ]
  },
  {
   "cell_type": "code",
   "execution_count": 13,
   "metadata": {
    "slideshow": {
     "slide_type": "fragment"
    }
   },
   "outputs": [],
   "source": [
    "import pandas as pd\n",
    "\n"
   ]
  },
  {
   "cell_type": "code",
   "execution_count": 14,
   "metadata": {
    "slideshow": {
     "slide_type": "fragment"
    }
   },
   "outputs": [
    {
     "data": {
      "text/html": [
       "<div>\n",
       "<style scoped>\n",
       "    .dataframe tbody tr th:only-of-type {\n",
       "        vertical-align: middle;\n",
       "    }\n",
       "\n",
       "    .dataframe tbody tr th {\n",
       "        vertical-align: top;\n",
       "    }\n",
       "\n",
       "    .dataframe thead th {\n",
       "        text-align: right;\n",
       "    }\n",
       "</style>\n",
       "<table border=\"1\" class=\"dataframe\">\n",
       "  <thead>\n",
       "    <tr style=\"text-align: right;\">\n",
       "      <th></th>\n",
       "      <th>ENHED</th>\n",
       "      <th>KOEN</th>\n",
       "      <th>TID</th>\n",
       "      <th>OMRÅDE</th>\n",
       "      <th>INDKOMSTTYPE</th>\n",
       "      <th>INDHOLD_x</th>\n",
       "      <th>HOVED</th>\n",
       "      <th>INDHOLD_y</th>\n",
       "    </tr>\n",
       "  </thead>\n",
       "  <tbody>\n",
       "    <tr>\n",
       "      <th>0</th>\n",
       "      <td>Average income for all people (DKK)</td>\n",
       "      <td>Women</td>\n",
       "      <td>1987</td>\n",
       "      <td>All Denmark</td>\n",
       "      <td>1 Disposable income (2+30-31-32-35)</td>\n",
       "      <td>67614</td>\n",
       "      <td>Average, yearly</td>\n",
       "      <td>54.9</td>\n",
       "    </tr>\n",
       "    <tr>\n",
       "      <th>1</th>\n",
       "      <td>Average income for all people (DKK)</td>\n",
       "      <td>Men</td>\n",
       "      <td>1987</td>\n",
       "      <td>All Denmark</td>\n",
       "      <td>1 Disposable income (2+30-31-32-35)</td>\n",
       "      <td>89143</td>\n",
       "      <td>Average, yearly</td>\n",
       "      <td>54.9</td>\n",
       "    </tr>\n",
       "    <tr>\n",
       "      <th>2</th>\n",
       "      <td>Average income for all people (DKK)</td>\n",
       "      <td>Men and women, total</td>\n",
       "      <td>1987</td>\n",
       "      <td>All Denmark</td>\n",
       "      <td>1 Disposable income (2+30-31-32-35)</td>\n",
       "      <td>78135</td>\n",
       "      <td>Average, yearly</td>\n",
       "      <td>54.9</td>\n",
       "    </tr>\n",
       "    <tr>\n",
       "      <th>3</th>\n",
       "      <td>Average income for all people (DKK)</td>\n",
       "      <td>Women</td>\n",
       "      <td>1988</td>\n",
       "      <td>All Denmark</td>\n",
       "      <td>1 Disposable income (2+30-31-32-35)</td>\n",
       "      <td>72330</td>\n",
       "      <td>Average, yearly</td>\n",
       "      <td>57.4</td>\n",
       "    </tr>\n",
       "    <tr>\n",
       "      <th>4</th>\n",
       "      <td>Average income for all people (DKK)</td>\n",
       "      <td>Men</td>\n",
       "      <td>1988</td>\n",
       "      <td>All Denmark</td>\n",
       "      <td>1 Disposable income (2+30-31-32-35)</td>\n",
       "      <td>92738</td>\n",
       "      <td>Average, yearly</td>\n",
       "      <td>57.4</td>\n",
       "    </tr>\n",
       "    <tr>\n",
       "      <th>5</th>\n",
       "      <td>Average income for all people (DKK)</td>\n",
       "      <td>Men and women, total</td>\n",
       "      <td>1988</td>\n",
       "      <td>All Denmark</td>\n",
       "      <td>1 Disposable income (2+30-31-32-35)</td>\n",
       "      <td>82304</td>\n",
       "      <td>Average, yearly</td>\n",
       "      <td>57.4</td>\n",
       "    </tr>\n",
       "    <tr>\n",
       "      <th>6</th>\n",
       "      <td>Average income for all people (DKK)</td>\n",
       "      <td>Women</td>\n",
       "      <td>1989</td>\n",
       "      <td>All Denmark</td>\n",
       "      <td>1 Disposable income (2+30-31-32-35)</td>\n",
       "      <td>77035</td>\n",
       "      <td>Average, yearly</td>\n",
       "      <td>60.1</td>\n",
       "    </tr>\n",
       "    <tr>\n",
       "      <th>7</th>\n",
       "      <td>Average income for all people (DKK)</td>\n",
       "      <td>Men</td>\n",
       "      <td>1989</td>\n",
       "      <td>All Denmark</td>\n",
       "      <td>1 Disposable income (2+30-31-32-35)</td>\n",
       "      <td>97448</td>\n",
       "      <td>Average, yearly</td>\n",
       "      <td>60.1</td>\n",
       "    </tr>\n",
       "    <tr>\n",
       "      <th>8</th>\n",
       "      <td>Average income for all people (DKK)</td>\n",
       "      <td>Men and women, total</td>\n",
       "      <td>1989</td>\n",
       "      <td>All Denmark</td>\n",
       "      <td>1 Disposable income (2+30-31-32-35)</td>\n",
       "      <td>87011</td>\n",
       "      <td>Average, yearly</td>\n",
       "      <td>60.1</td>\n",
       "    </tr>\n",
       "    <tr>\n",
       "      <th>9</th>\n",
       "      <td>Average income for all people (DKK)</td>\n",
       "      <td>Women</td>\n",
       "      <td>1990</td>\n",
       "      <td>All Denmark</td>\n",
       "      <td>1 Disposable income (2+30-31-32-35)</td>\n",
       "      <td>80440</td>\n",
       "      <td>Average, yearly</td>\n",
       "      <td>61.7</td>\n",
       "    </tr>\n",
       "  </tbody>\n",
       "</table>\n",
       "</div>"
      ],
      "text/plain": [
       "                                 ENHED                  KOEN   TID  \\\n",
       "0  Average income for all people (DKK)                 Women  1987   \n",
       "1  Average income for all people (DKK)                   Men  1987   \n",
       "2  Average income for all people (DKK)  Men and women, total  1987   \n",
       "3  Average income for all people (DKK)                 Women  1988   \n",
       "4  Average income for all people (DKK)                   Men  1988   \n",
       "5  Average income for all people (DKK)  Men and women, total  1988   \n",
       "6  Average income for all people (DKK)                 Women  1989   \n",
       "7  Average income for all people (DKK)                   Men  1989   \n",
       "8  Average income for all people (DKK)  Men and women, total  1989   \n",
       "9  Average income for all people (DKK)                 Women  1990   \n",
       "\n",
       "        OMRÅDE                         INDKOMSTTYPE  INDHOLD_x  \\\n",
       "0  All Denmark  1 Disposable income (2+30-31-32-35)      67614   \n",
       "1  All Denmark  1 Disposable income (2+30-31-32-35)      89143   \n",
       "2  All Denmark  1 Disposable income (2+30-31-32-35)      78135   \n",
       "3  All Denmark  1 Disposable income (2+30-31-32-35)      72330   \n",
       "4  All Denmark  1 Disposable income (2+30-31-32-35)      92738   \n",
       "5  All Denmark  1 Disposable income (2+30-31-32-35)      82304   \n",
       "6  All Denmark  1 Disposable income (2+30-31-32-35)      77035   \n",
       "7  All Denmark  1 Disposable income (2+30-31-32-35)      97448   \n",
       "8  All Denmark  1 Disposable income (2+30-31-32-35)      87011   \n",
       "9  All Denmark  1 Disposable income (2+30-31-32-35)      80440   \n",
       "\n",
       "             HOVED  INDHOLD_y  \n",
       "0  Average, yearly       54.9  \n",
       "1  Average, yearly       54.9  \n",
       "2  Average, yearly       54.9  \n",
       "3  Average, yearly       57.4  \n",
       "4  Average, yearly       57.4  \n",
       "5  Average, yearly       57.4  \n",
       "6  Average, yearly       60.1  \n",
       "7  Average, yearly       60.1  \n",
       "8  Average, yearly       60.1  \n",
       "9  Average, yearly       61.7  "
      ]
     },
     "execution_count": 14,
     "metadata": {},
     "output_type": "execute_result"
    }
   ],
   "source": [
    "result = pd.merge(df, df2, how=\"left\", on=[\"TID\"]) # can be left, right, outer, inner etc.\n",
    "result.head(10)\n"
   ]
  },
  {
   "cell_type": "markdown",
   "metadata": {
    "slideshow": {
     "slide_type": "slide"
    }
   },
   "source": [
    "# Split-Apply-Combine"
   ]
  },
  {
   "cell_type": "code",
   "execution_count": 17,
   "metadata": {
    "slideshow": {
     "slide_type": "fragment"
    }
   },
   "outputs": [],
   "source": [
    "# a. split\n",
    "res_grouped = result.groupby(['KOEN', 'TID']) # group by gender and year\n",
    "\n"
   ]
  },
  {
   "cell_type": "code",
   "execution_count": 18,
   "metadata": {
    "slideshow": {
     "slide_type": "fragment"
    }
   },
   "outputs": [
    {
     "data": {
      "text/plain": [
       "KOEN   TID \n",
       "Men    1987    1623.734062\n",
       "       1988    1615.644599\n",
       "       1989    1621.430948\n",
       "       1990    1635.105348\n",
       "       1991    1670.490506\n",
       "                  ...     \n",
       "Women  2017    2044.615385\n",
       "       2018    2082.984344\n",
       "       2019    2129.650485\n",
       "       2020    2219.603482\n",
       "       2021    2269.914611\n",
       "Length: 105, dtype: float64"
      ]
     },
     "execution_count": 18,
     "metadata": {},
     "output_type": "execute_result"
    }
   ],
   "source": [
    "# b. apply\n",
    "res_app = res_grouped.apply(lambda x: ( x['INDHOLD_x'] / x['INDHOLD_y']).sum()) # divide income w. inflation\n",
    "\n",
    "res_app"
   ]
  },
  {
   "cell_type": "code",
   "execution_count": 21,
   "metadata": {
    "slideshow": {
     "slide_type": "fragment"
    }
   },
   "outputs": [
    {
     "data": {
      "text/html": [
       "<div>\n",
       "<style scoped>\n",
       "    .dataframe tbody tr th:only-of-type {\n",
       "        vertical-align: middle;\n",
       "    }\n",
       "\n",
       "    .dataframe tbody tr th {\n",
       "        vertical-align: top;\n",
       "    }\n",
       "\n",
       "    .dataframe thead th {\n",
       "        text-align: right;\n",
       "    }\n",
       "</style>\n",
       "<table border=\"1\" class=\"dataframe\">\n",
       "  <thead>\n",
       "    <tr style=\"text-align: right;\">\n",
       "      <th>TID</th>\n",
       "      <th>1987</th>\n",
       "      <th>1988</th>\n",
       "      <th>1989</th>\n",
       "      <th>1990</th>\n",
       "      <th>1991</th>\n",
       "      <th>1992</th>\n",
       "      <th>1993</th>\n",
       "      <th>1994</th>\n",
       "      <th>1995</th>\n",
       "      <th>1996</th>\n",
       "      <th>...</th>\n",
       "      <th>2012</th>\n",
       "      <th>2013</th>\n",
       "      <th>2014</th>\n",
       "      <th>2015</th>\n",
       "      <th>2016</th>\n",
       "      <th>2017</th>\n",
       "      <th>2018</th>\n",
       "      <th>2019</th>\n",
       "      <th>2020</th>\n",
       "      <th>2021</th>\n",
       "    </tr>\n",
       "    <tr>\n",
       "      <th>KOEN</th>\n",
       "      <th></th>\n",
       "      <th></th>\n",
       "      <th></th>\n",
       "      <th></th>\n",
       "      <th></th>\n",
       "      <th></th>\n",
       "      <th></th>\n",
       "      <th></th>\n",
       "      <th></th>\n",
       "      <th></th>\n",
       "      <th></th>\n",
       "      <th></th>\n",
       "      <th></th>\n",
       "      <th></th>\n",
       "      <th></th>\n",
       "      <th></th>\n",
       "      <th></th>\n",
       "      <th></th>\n",
       "      <th></th>\n",
       "      <th></th>\n",
       "      <th></th>\n",
       "    </tr>\n",
       "  </thead>\n",
       "  <tbody>\n",
       "    <tr>\n",
       "      <th>Men</th>\n",
       "      <td>1623.734062</td>\n",
       "      <td>1615.644599</td>\n",
       "      <td>1621.430948</td>\n",
       "      <td>1635.105348</td>\n",
       "      <td>1670.490506</td>\n",
       "      <td>1678.976744</td>\n",
       "      <td>1710.566616</td>\n",
       "      <td>1804.174174</td>\n",
       "      <td>1852.970588</td>\n",
       "      <td>1885.812950</td>\n",
       "      <td>...</td>\n",
       "      <td>2260.845214</td>\n",
       "      <td>2313.292929</td>\n",
       "      <td>2340.682731</td>\n",
       "      <td>2408.36</td>\n",
       "      <td>2441.854437</td>\n",
       "      <td>2495.216963</td>\n",
       "      <td>2527.641879</td>\n",
       "      <td>2602.922330</td>\n",
       "      <td>2708.442940</td>\n",
       "      <td>2810.113852</td>\n",
       "    </tr>\n",
       "    <tr>\n",
       "      <th>Men and women, total</th>\n",
       "      <td>1423.224044</td>\n",
       "      <td>1433.867596</td>\n",
       "      <td>1447.770383</td>\n",
       "      <td>1465.688817</td>\n",
       "      <td>1497.357595</td>\n",
       "      <td>1513.271318</td>\n",
       "      <td>1543.491577</td>\n",
       "      <td>1618.768769</td>\n",
       "      <td>1659.705882</td>\n",
       "      <td>1688.244604</td>\n",
       "      <td>...</td>\n",
       "      <td>2077.769857</td>\n",
       "      <td>2117.727273</td>\n",
       "      <td>2148.684739</td>\n",
       "      <td>2201.85</td>\n",
       "      <td>2227.696909</td>\n",
       "      <td>2267.011834</td>\n",
       "      <td>2302.465753</td>\n",
       "      <td>2363.223301</td>\n",
       "      <td>2460.880077</td>\n",
       "      <td>2536.593928</td>\n",
       "    </tr>\n",
       "    <tr>\n",
       "      <th>Women</th>\n",
       "      <td>1231.584699</td>\n",
       "      <td>1260.104530</td>\n",
       "      <td>1281.780366</td>\n",
       "      <td>1303.727715</td>\n",
       "      <td>1331.677215</td>\n",
       "      <td>1354.604651</td>\n",
       "      <td>1383.384380</td>\n",
       "      <td>1441.051051</td>\n",
       "      <td>1474.382353</td>\n",
       "      <td>1498.719424</td>\n",
       "      <td>...</td>\n",
       "      <td>1900.560081</td>\n",
       "      <td>1928.151515</td>\n",
       "      <td>1962.459839</td>\n",
       "      <td>2001.19</td>\n",
       "      <td>2019.182453</td>\n",
       "      <td>2044.615385</td>\n",
       "      <td>2082.984344</td>\n",
       "      <td>2129.650485</td>\n",
       "      <td>2219.603482</td>\n",
       "      <td>2269.914611</td>\n",
       "    </tr>\n",
       "  </tbody>\n",
       "</table>\n",
       "<p>3 rows × 35 columns</p>\n",
       "</div>"
      ],
      "text/plain": [
       "TID                          1987         1988         1989         1990  \\\n",
       "KOEN                                                                       \n",
       "Men                   1623.734062  1615.644599  1621.430948  1635.105348   \n",
       "Men and women, total  1423.224044  1433.867596  1447.770383  1465.688817   \n",
       "Women                 1231.584699  1260.104530  1281.780366  1303.727715   \n",
       "\n",
       "TID                          1991         1992         1993         1994  \\\n",
       "KOEN                                                                       \n",
       "Men                   1670.490506  1678.976744  1710.566616  1804.174174   \n",
       "Men and women, total  1497.357595  1513.271318  1543.491577  1618.768769   \n",
       "Women                 1331.677215  1354.604651  1383.384380  1441.051051   \n",
       "\n",
       "TID                          1995         1996  ...         2012         2013  \\\n",
       "KOEN                                            ...                             \n",
       "Men                   1852.970588  1885.812950  ...  2260.845214  2313.292929   \n",
       "Men and women, total  1659.705882  1688.244604  ...  2077.769857  2117.727273   \n",
       "Women                 1474.382353  1498.719424  ...  1900.560081  1928.151515   \n",
       "\n",
       "TID                          2014     2015         2016         2017  \\\n",
       "KOEN                                                                   \n",
       "Men                   2340.682731  2408.36  2441.854437  2495.216963   \n",
       "Men and women, total  2148.684739  2201.85  2227.696909  2267.011834   \n",
       "Women                 1962.459839  2001.19  2019.182453  2044.615385   \n",
       "\n",
       "TID                          2018         2019         2020         2021  \n",
       "KOEN                                                                      \n",
       "Men                   2527.641879  2602.922330  2708.442940  2810.113852  \n",
       "Men and women, total  2302.465753  2363.223301  2460.880077  2536.593928  \n",
       "Women                 2082.984344  2129.650485  2219.603482  2269.914611  \n",
       "\n",
       "[3 rows x 35 columns]"
      ]
     },
     "execution_count": 21,
     "metadata": {},
     "output_type": "execute_result"
    }
   ],
   "source": [
    "\n",
    "# c. combine\n",
    "result = res_app.unstack() # unstack the tables\n",
    "result\n"
   ]
  },
  {
   "cell_type": "code",
   "execution_count": 22,
   "metadata": {
    "slideshow": {
     "slide_type": "slide"
    }
   },
   "outputs": [
    {
     "data": {
      "image/png": "[encoded data removed]",
      "text/plain": [
       "<Figure size 640x480 with 1 Axes>"
      ]
     },
     "metadata": {},
     "output_type": "display_data"
    }
   ],
   "source": [
    "result.T.plot(); #  transpose and plot\n",
    "\n"
   ]
  },
  {
   "cell_type": "code",
   "execution_count": 23,
   "metadata": {
    "slideshow": {
     "slide_type": "fragment"
    }
   },
   "outputs": [
    {
     "data": {
      "image/png": "[encoded data removed]",
      "text/plain": [
       "<Figure size 640x480 with 1 Axes>"
      ]
     },
     "metadata": {},
     "output_type": "display_data"
    }
   ],
   "source": [
    "se = result.iloc[0]/result.iloc[-1]\n",
    "se.T.plot();"
   ]
  },
  {
   "cell_type": "markdown",
   "metadata": {
    "slideshow": {
     "slide_type": "slide"
    }
   },
   "source": [
    "# Time for Problem set 4"
   ]
  }
 ],
 "metadata": {
  "celltoolbar": "Slideshow",
  "kernelspec": {
   "display_name": "Python 3 (ipykernel)",
   "language": "python",
   "name": "python3"
  },
  "language_info": {
   "codemirror_mode": {
    "name": "ipython",
    "version": 3
   },
   "file_extension": ".py",
   "mimetype": "text/x-python",
   "name": "python",
   "nbconvert_exporter": "python",
   "pygments_lexer": "ipython3",
   "version": "3.9.16"
  }
 },
 "nbformat": 4,
 "nbformat_minor": 2
}
