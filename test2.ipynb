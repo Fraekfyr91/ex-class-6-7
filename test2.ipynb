{
 "cells": [
  {
   "cell_type": "code",
   "execution_count": 5,
   "metadata": {},
   "outputs": [],
   "source": [
    "class new_class():\n",
    "    def __init__(self):\n",
    "        self.a = 8\n",
    "        self.b = 2\n",
    "    def doing_shit(self, sentence):\n",
    "        a = []\n",
    "        for i in range(self.b, self.a):\n",
    "            a.append(sentence * i)\n",
    "        return a\n",
    "        \n",
    "\n",
    "a = new_class().doing_shit('Hello ')"
   ]
  },
  {
   "cell_type": "code",
   "execution_count": 6,
   "metadata": {},
   "outputs": [
    {
     "name": "stdout",
     "output_type": "stream",
     "text": [
      "['Hello Hello ', 'Hello Hello Hello ', 'Hello Hello Hello Hello ', 'Hello Hello Hello Hello Hello ', 'Hello Hello Hello Hello Hello Hello ', 'Hello Hello Hello Hello Hello Hello Hello ']\n"
     ]
    }
   ],
   "source": [
    "print(a)"
   ]
  },
  {
   "cell_type": "code",
   "execution_count": null,
   "metadata": {},
   "outputs": [],
   "source": []
  }
 ],
 "metadata": {
  "kernelspec": {
   "display_name": "Python 3",
   "language": "python",
   "name": "python3"
  },
  "language_info": {
   "codemirror_mode": {
    "name": "ipython",
    "version": 3
   },
   "file_extension": ".py",
   "mimetype": "text/x-python",
   "name": "python",
   "nbconvert_exporter": "python",
   "pygments_lexer": "ipython3",
   "version": "3.9.13"
  },
  "orig_nbformat": 4,
  "vscode": {
   "interpreter": {
    "hash": "d34abf8d61b97206d9f399b461b820f98b5dcb2ee1efd50b944eaf346fd36d7d"
   }
  }
 },
 "nbformat": 4,
 "nbformat_minor": 2
}
