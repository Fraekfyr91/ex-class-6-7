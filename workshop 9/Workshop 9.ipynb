{
 "cells": [
  {
   "cell_type": "markdown",
   "metadata": {
    "slideshow": {
     "slide_type": "slide"
    }
   },
   "source": [
    "<img src=\"ku_logo_uk_v.png\" alt=\"drawing\" width=\"500\" style=\"float:right\"/>\n",
    "\n",
    "\n",
    "# Welcome to Workshop 9 - Introduction to Programming and Numerical Analysis !!!"
   ]
  },
  {
   "cell_type": "markdown",
   "metadata": {
    "slideshow": {
     "slide_type": "slide"
    }
   },
   "source": [
    "# Today - Data Project!"
   ]
  },
  {
   "cell_type": "markdown",
   "metadata": {
    "slideshow": {
     "slide_type": "fragment"
    }
   },
   "source": [
    "# Repository structure\n",
    "- clean your folders\n",
    "- write a README.md\n",
    "- .py files for functions"
   ]
  },
  {
   "cell_type": "markdown",
   "metadata": {
    "slideshow": {
     "slide_type": "fragment"
    }
   },
   "source": [
    "[My Dataproject](https://github.com/NumEconCopenhagen/projects-2021-the-danish-german-alliance/blob/master/The-Danish-German-Alliance/dataproject/dataproject.ipynb) (don't copy the structure)\n"
   ]
  },
  {
   "cell_type": "markdown",
   "metadata": {
    "slideshow": {
     "slide_type": "slide"
    }
   },
   "source": [
    "<img src=\"lego_pic.png\" alt=\"drawing\" width=\"500\" style=\"float:right\"/>\n",
    "\n",
    "\n",
    "# The good dataproject\n",
    "- Clean structure\n",
    "- Creative use of data\n",
    "- Tell a story!"
   ]
  },
  {
   "cell_type": "markdown",
   "metadata": {
    "slideshow": {
     "slide_type": "fragment"
    }
   },
   "source": [
    "# Maybe regress stuff?!\n",
    "- I have made an example"
   ]
  },
  {
   "cell_type": "code",
   "execution_count": 1,
   "metadata": {
    "slideshow": {
     "slide_type": "slide"
    }
   },
   "outputs": [],
   "source": [
    "import numpy as np \n",
    "from numpy import linalg as la\n",
    "import requests\n",
    "import pandas as pd\n",
    "import io\n",
    "import types\n",
    "\n",
    "\n"
   ]
  },
  {
   "cell_type": "code",
   "execution_count": 2,
   "metadata": {
    "slideshow": {
     "slide_type": "slide"
    }
   },
   "outputs": [],
   "source": [
    "def estimate( \n",
    "        y: np.array, x: np.array, t: int=None, robust_se = True\n",
    "    ) -> list:\n",
    "    \"\"\"Uses the provided estimator to perform a regression of y on x, \n",
    "    and provides all other necessary statistics such as standard errors, \n",
    "    t-values etc.  \n",
    "\n",
    "    Args:\n",
    "        >> y (np.array): Dependent variable (Needs to have shape 2D shape)\n",
    "        >> x (np.array): Independent variable (Needs to have shape 2D shape)\n",
    "        >> t (int, optional): If panel data, t is the number of time periods in\n",
    "        the panel, and is used for estimating the variance. Defaults to None.\n",
    "\n",
    "    Returns:\n",
    "        list: Returns a dictionary with the following variables:\n",
    "        'b_hat', 'se', 'sigma2', 't_values', 'R2', 'cov'\n",
    "    \"\"\"\n",
    "    \n",
    "    b_hat = la.inv(x.T@x)@(x.T@y)  # Estimated coefficients\n",
    "    \n",
    "    residual = y - x@b_hat  # Calculated residuals\n",
    "    SSR = residual.T@residual  # Sum of squared residuals\n",
    "    \n",
    "    SST = (y - np.mean(y)).T@(y - np.mean(y))  # Total sum of squares\n",
    "    \n",
    "    R2 = 1 - SSR/SST # R squared\n",
    "\n",
    "    k = x.shape[1] # cols\n",
    "    n = x.shape[0] # rows\n",
    "\n",
    "    # Calculate sigma2\n",
    "    sigma2 = (np.array(SSR/(n - k)))\n",
    "\n",
    "   \n",
    "    if robust_se:\n",
    "        # If only cross sectinoal, we can easiily use the diagonal.\n",
    "        if not t:\n",
    "            uhat2 = residual * residual # Uhat squared\n",
    "            diag = np.diag(uhat2.reshape(-1, )) # reshape u hat squared\n",
    "            cov = la.inv(x.T@x) @ (x.T@diag@x) @ la.inv(x.T@x) # calculate covariance\n",
    "    \n",
    "        # Else we loop over each individual.\n",
    "        else:\n",
    "            n = int(residual.size / t)  # res size over time periods \n",
    "            k = x.shape[1] # cols\n",
    "            diag = np.zeros((k, k)) # init diagonal calc\n",
    "            for i in range(0, n*t, t):\n",
    "                slice_obj = slice(i, i + t) # slicing i to i + time \n",
    "                uhat2 = residual[slice_obj]@residual[slice_obj].T # calculation u hat squared\n",
    "                diag += x[slice_obj].T @ uhat2 @ x[slice_obj] #adding to diagonal\n",
    "            cov = la.inv(x.T@x)@(diag)@la.inv(x.T@x) # covariance\n",
    "\n",
    "        se = np.sqrt(np.diag(cov)).reshape(-1, 1) # standard error\n",
    "    else:\n",
    "        cov = sigma2*la.inv(x.T@x) # covariance\n",
    "        se = np.sqrt(cov.diagonal()).reshape(-1, 1) # standard errors\n",
    "        \n",
    "    \n",
    "    t_values = b_hat/se # t-vals\n",
    "    res = types.SimpleNamespace()\n",
    "    res.b_hat = b_hat\n",
    "    res.se = se.T\n",
    "    res.sigma2 = sigma2\n",
    "    res.t_values = t_values\n",
    "    res.R2 = R2\n",
    "    res.cov = cov\n",
    "    \n",
    "    return res\n",
    "\n",
    "\n"
   ]
  },
  {
   "cell_type": "code",
   "execution_count": 3,
   "metadata": {
    "slideshow": {
     "slide_type": "slide"
    }
   },
   "outputs": [
    {
     "data": {
      "text/html": [
       "<div>\n",
       "<style scoped>\n",
       "    .dataframe tbody tr th:only-of-type {\n",
       "        vertical-align: middle;\n",
       "    }\n",
       "\n",
       "    .dataframe tbody tr th {\n",
       "        vertical-align: top;\n",
       "    }\n",
       "\n",
       "    .dataframe thead th {\n",
       "        text-align: right;\n",
       "    }\n",
       "</style>\n",
       "<table border=\"1\" class=\"dataframe\">\n",
       "  <thead>\n",
       "    <tr style=\"text-align: right;\">\n",
       "      <th></th>\n",
       "      <th>PassengerId</th>\n",
       "      <th>Survived</th>\n",
       "      <th>Pclass</th>\n",
       "      <th>Name</th>\n",
       "      <th>Sex</th>\n",
       "      <th>Age</th>\n",
       "      <th>SibSp</th>\n",
       "      <th>Parch</th>\n",
       "      <th>Ticket</th>\n",
       "      <th>Fare</th>\n",
       "      <th>Cabin</th>\n",
       "      <th>Embarked</th>\n",
       "    </tr>\n",
       "  </thead>\n",
       "  <tbody>\n",
       "    <tr>\n",
       "      <th>0</th>\n",
       "      <td>1</td>\n",
       "      <td>0</td>\n",
       "      <td>3</td>\n",
       "      <td>Braund, Mr. Owen Harris</td>\n",
       "      <td>male</td>\n",
       "      <td>22.0</td>\n",
       "      <td>1</td>\n",
       "      <td>0</td>\n",
       "      <td>A/5 21171</td>\n",
       "      <td>7.2500</td>\n",
       "      <td>NaN</td>\n",
       "      <td>S</td>\n",
       "    </tr>\n",
       "    <tr>\n",
       "      <th>1</th>\n",
       "      <td>2</td>\n",
       "      <td>1</td>\n",
       "      <td>1</td>\n",
       "      <td>Cumings, Mrs. John Bradley (Florence Briggs Th...</td>\n",
       "      <td>female</td>\n",
       "      <td>38.0</td>\n",
       "      <td>1</td>\n",
       "      <td>0</td>\n",
       "      <td>PC 17599</td>\n",
       "      <td>71.2833</td>\n",
       "      <td>C85</td>\n",
       "      <td>C</td>\n",
       "    </tr>\n",
       "    <tr>\n",
       "      <th>2</th>\n",
       "      <td>3</td>\n",
       "      <td>1</td>\n",
       "      <td>3</td>\n",
       "      <td>Heikkinen, Miss. Laina</td>\n",
       "      <td>female</td>\n",
       "      <td>26.0</td>\n",
       "      <td>0</td>\n",
       "      <td>0</td>\n",
       "      <td>STON/O2. 3101282</td>\n",
       "      <td>7.9250</td>\n",
       "      <td>NaN</td>\n",
       "      <td>S</td>\n",
       "    </tr>\n",
       "    <tr>\n",
       "      <th>3</th>\n",
       "      <td>4</td>\n",
       "      <td>1</td>\n",
       "      <td>1</td>\n",
       "      <td>Futrelle, Mrs. Jacques Heath (Lily May Peel)</td>\n",
       "      <td>female</td>\n",
       "      <td>35.0</td>\n",
       "      <td>1</td>\n",
       "      <td>0</td>\n",
       "      <td>113803</td>\n",
       "      <td>53.1000</td>\n",
       "      <td>C123</td>\n",
       "      <td>S</td>\n",
       "    </tr>\n",
       "    <tr>\n",
       "      <th>4</th>\n",
       "      <td>5</td>\n",
       "      <td>0</td>\n",
       "      <td>3</td>\n",
       "      <td>Allen, Mr. William Henry</td>\n",
       "      <td>male</td>\n",
       "      <td>35.0</td>\n",
       "      <td>0</td>\n",
       "      <td>0</td>\n",
       "      <td>373450</td>\n",
       "      <td>8.0500</td>\n",
       "      <td>NaN</td>\n",
       "      <td>S</td>\n",
       "    </tr>\n",
       "  </tbody>\n",
       "</table>\n",
       "</div>"
      ],
      "text/plain": [
       "   PassengerId  Survived  Pclass  \\\n",
       "0            1         0       3   \n",
       "1            2         1       1   \n",
       "2            3         1       3   \n",
       "3            4         1       1   \n",
       "4            5         0       3   \n",
       "\n",
       "                                                Name     Sex   Age  SibSp  \\\n",
       "0                            Braund, Mr. Owen Harris    male  22.0      1   \n",
       "1  Cumings, Mrs. John Bradley (Florence Briggs Th...  female  38.0      1   \n",
       "2                             Heikkinen, Miss. Laina  female  26.0      0   \n",
       "3       Futrelle, Mrs. Jacques Heath (Lily May Peel)  female  35.0      1   \n",
       "4                           Allen, Mr. William Henry    male  35.0      0   \n",
       "\n",
       "   Parch            Ticket     Fare Cabin Embarked  \n",
       "0      0         A/5 21171   7.2500   NaN        S  \n",
       "1      0          PC 17599  71.2833   C85        C  \n",
       "2      0  STON/O2. 3101282   7.9250   NaN        S  \n",
       "3      0            113803  53.1000  C123        S  \n",
       "4      0            373450   8.0500   NaN        S  "
      ]
     },
     "execution_count": 3,
     "metadata": {},
     "output_type": "execute_result"
    }
   ],
   "source": [
    "#found some data\n",
    "url = 'https://raw.githubusercontent.com/pandas-dev/pandas/main/doc/data/titanic.csv'\n",
    "# get it \n",
    "urlData = requests.get(url).content\n",
    "#in a df from a string in csv format\n",
    "df = pd.read_csv(io.StringIO(urlData.decode('utf-8')))\n",
    "df.head()\n",
    "\n"
   ]
  },
  {
   "cell_type": "code",
   "execution_count": 4,
   "metadata": {
    "slideshow": {
     "slide_type": "fragment"
    }
   },
   "outputs": [
    {
     "name": "stderr",
     "output_type": "stream",
     "text": [
      "C:\\Users\\45238\\anaconda3\\lib\\site-packages\\pandas\\plotting\\_matplotlib\\core.py:1114: UserWarning: No data for colormapping provided via 'c'. Parameters 'cmap' will be ignored\n",
      "  scatter = ax.scatter(\n"
     ]
    },
    {
     "data": {
      "image/png": "[encoded data removed]",
      "text/plain": [
       "<Figure size 640x480 with 1 Axes>"
      ]
     },
     "metadata": {},
     "output_type": "display_data"
    }
   ],
   "source": [
    "df.plot.scatter(x = 'Pclass', y = 'Fare');\n",
    "\n"
   ]
  },
  {
   "cell_type": "code",
   "execution_count": 5,
   "metadata": {
    "slideshow": {
     "slide_type": "slide"
    }
   },
   "outputs": [],
   "source": [
    "vars = ['Fare','Pclass','Survived', 'Age', 'Embarked']\n",
    "df = df[vars]  #subseting df\n",
    "df = pd.concat([df,pd.get_dummies(df.Embarked)], axis = 1)\n",
    "df = df.drop(['Embarked'], axis=1)\n",
    "df = df.apply(pd.to_numeric) # All values to numeric\n",
    "df = df.dropna(axis=0,inplace=False) # dropping nans (important)\n",
    "\n"
   ]
  },
  {
   "cell_type": "code",
   "execution_count": 6,
   "metadata": {
    "slideshow": {
     "slide_type": "fragment"
    }
   },
   "outputs": [
    {
     "data": {
      "text/plain": [
       "'Survived'"
      ]
     },
     "execution_count": 6,
     "metadata": {},
     "output_type": "execute_result"
    }
   ],
   "source": [
    "x_vals = df.columns.to_list()\n",
    "x_vals.pop(2)\n",
    "\n"
   ]
  },
  {
   "cell_type": "code",
   "execution_count": 7,
   "metadata": {
    "slideshow": {
     "slide_type": "slide"
    }
   },
   "outputs": [],
   "source": [
    "y = df.Survived.values# fare = ticket price\n",
    "x = df[x_vals].values# x vals\n",
    "\n"
   ]
  },
  {
   "cell_type": "code",
   "execution_count": 14,
   "metadata": {
    "slideshow": {
     "slide_type": "fragment"
    }
   },
   "outputs": [],
   "source": [
    "reg = estimate(y, x, robust_se = False) #Reeeeeeg y x\n",
    "\n"
   ]
  },
  {
   "cell_type": "code",
   "execution_count": 15,
   "metadata": {
    "slideshow": {
     "slide_type": "fragment"
    }
   },
   "outputs": [
    {
     "data": {
      "text/plain": [
       "array([ 0.  , -0.21, -0.01,  1.12,  1.03,  1.01])"
      ]
     },
     "execution_count": 15,
     "metadata": {},
     "output_type": "execute_result"
    }
   ],
   "source": [
    "reg.b_hat.round(2)\n"
   ]
  },
  {
   "cell_type": "code",
   "execution_count": null,
   "metadata": {},
   "outputs": [],
   "source": []
  },
  {
   "cell_type": "code",
   "execution_count": null,
   "metadata": {},
   "outputs": [],
   "source": [
    "dic ={}\n",
    "data = ['alc', 'life', 'osv']\n",
    "for i in data:\n",
    "    dic[i] = pd.read_csv(f\"{i}.csv\")\n"
   ]
  },
  {
   "cell_type": "code",
   "execution_count": null,
   "metadata": {},
   "outputs": [],
   "source": []
  }
 ],
 "metadata": {
  "celltoolbar": "Slideshow",
  "kernelspec": {
   "display_name": "Python 3 (ipykernel)",
   "language": "python",
   "name": "python3"
  },
  "language_info": {
   "codemirror_mode": {
    "name": "ipython",
    "version": 3
   },
   "file_extension": ".py",
   "mimetype": "text/x-python",
   "name": "python",
   "nbconvert_exporter": "python",
   "pygments_lexer": "ipython3",
   "version": "3.9.16"
  }
 },
 "nbformat": 4,
 "nbformat_minor": 2
}
