{
 "cells": [
  {
   "cell_type": "markdown",
   "metadata": {},
   "source": [
    "<img src=\"ku_logo_uk_v.png\" alt=\"drawing\" width=\"500\" style=\"float:right\"/>\n",
    "\n",
    "\n",
    "# Welcome to Workshop 11 - Introduction to Programming and Numerical Analysis !!!"
   ]
  },
  {
   "attachments": {},
   "cell_type": "markdown",
   "metadata": {},
   "source": [
    "# Plan for today\n",
    "- Linear algebra\n",
    "- Solving equations analytically\n",
    "- Problem set 6"
   ]
  },
  {
   "attachments": {},
   "cell_type": "markdown",
   "metadata": {},
   "source": [
    "# Linear algebra\n",
    "\n",
    "We use `SciPy's` module `linalg` to perform linear algebra operations: \n",
    "\n",
    "- Determinant, invert, norm.\n",
    "- Solve a system of equations.\n",
    "- Find eigenvalues.\n",
    "- Etc.\n",
    "\n",
    "[Module describtion](https://docs.scipy.org/doc/scipy/reference/linalg.html)"
   ]
  },
  {
   "cell_type": "markdown",
   "metadata": {},
   "source": [
    "# Example:\n",
    "$$ Ax = B $$\n"
   ]
  },
  {
   "cell_type": "code",
   "execution_count": 1,
   "metadata": {},
   "outputs": [
    {
     "name": "stdout",
     "output_type": "stream",
     "text": [
      "Matrix A: \n",
      "[[ 0.82418808  0.479966    1.17346801  0.90904807 -0.57172145]\n",
      " [-0.10949727  0.01902826 -0.94376106  0.64057315 -0.78644317]\n",
      " [ 0.60886999 -0.93101185  0.97822225 -0.73691806 -0.29873262]\n",
      " [-0.46058737 -1.08879299 -0.57577075 -1.68290077  0.22918525]\n",
      " [-1.75662522  0.84463262  0.27721986  0.85290153  0.1945996 ]] \n",
      "\n",
      " Matrix b:\n",
      "[0.41671201 0.74304719 0.36959638 0.07516654 0.77519298]\n"
     ]
    }
   ],
   "source": [
    "import numpy as np # import numpy\n",
    "from scipy import linalg # import linalg\n",
    "\n",
    "np.random.seed(666) # set seed\n",
    "\n",
    "A = np.random.normal(size=(5,5)) # draw random A matrix\n",
    "B = np.random.uniform(size=5) # draw random B vector\n",
    "\n",
    "print(f'Matrix A: \\n{A} \\n\\n Matrix b:\\n{B}')"
   ]
  },
  {
   "attachments": {},
   "cell_type": "markdown",
   "metadata": {},
   "source": [
    "We use `lu_factor(a[, overwrite_a, check_finite])`, to compute pivoted LU decomposition of A matrix.\n",
    "Decomposes A into upper and lower triangular matrix and solve through substitution.\n",
    "\n",
    "And `lu_solve(lu_and_piv, b[, trans, …])`, to solve an equation system, $A x = B$, given the LU factorization of A."
   ]
  },
  {
   "cell_type": "code",
   "execution_count": 2,
   "metadata": {},
   "outputs": [
    {
     "name": "stdout",
     "output_type": "stream",
     "text": [
      "x is: [-0.61056339  0.02808207  0.26229122 -0.16346625 -1.30703677]\n"
     ]
    }
   ],
   "source": [
    "LU, piv = linalg.lu_factor(A) # compute LU decomposition of A\n",
    "x = linalg.lu_solve((LU,piv),B) # solve equation system\n",
    "print(f'x is: {x}')"
   ]
  },
  {
   "attachments": {},
   "cell_type": "markdown",
   "metadata": {},
   "source": [
    "Or the simple way...\n",
    "`solve(a, b[, sym_pos, lower, overwrite_a, …])`, solves the linear equation set $A x = B$ for the unknown x for square A matrix."
   ]
  },
  {
   "cell_type": "code",
   "execution_count": 3,
   "metadata": {},
   "outputs": [
    {
     "name": "stdout",
     "output_type": "stream",
     "text": [
      "x is: [-0.61056339  0.02808207  0.26229122 -0.16346625 -1.30703677]\n"
     ]
    }
   ],
   "source": [
    "# Simple solver\n",
    "x = linalg.solve(A,B)\n",
    "print(f'x is: {x}')"
   ]
  },
  {
   "cell_type": "markdown",
   "metadata": {},
   "source": [
    "# Solving Equations analytically\n",
    "We use `Sympy` to work with formulas and model to enable us to translate analytics into python code - Wooow! \n",
    "\n",
    "\n",
    "Consider a utility function from a standard OLG model. \n",
    "\n",
    "Economic agents lives two periods (young/old) and obtains utility from consumption in both periods:\n",
    "\n",
    "$$U_{i,t} = u_i(c_{i,1}) + \\frac{1}{1+\\rho}u_i(C_{i,2})$$\n",
    "\n",
    "For simplicity we use log-utility."
   ]
  },
  {
   "cell_type": "code",
   "execution_count": 4,
   "metadata": {},
   "outputs": [
    {
     "data": {
      "text/latex": [
       "$\\displaystyle \\log{\\left(C_{i1} \\right)} + \\frac{\\log{\\left(C_{i2} \\right)}}{\\rho + 1}$"
      ],
      "text/plain": [
       "log(C_i1) + log(C_i2)/(rho + 1)"
      ]
     },
     "execution_count": 4,
     "metadata": {},
     "output_type": "execute_result"
    }
   ],
   "source": [
    "import sympy as sm # import sympy\n",
    "\n",
    "c1,c2 = sm.symbols(\"C_i1\"), sm.symbols(\"C_i2\") # define C_i1 and C_i2\n",
    "rho = sm.symbols(\"rho\") # define rho\n",
    "\n",
    "#log-utility\n",
    "uc1 = sm.ln(c1) \n",
    "uc2 = sm.ln(c2)\n",
    "# Define U_it\n",
    "U = uc1+1/(1+rho)*uc2\n",
    "U\n"
   ]
  },
  {
   "attachments": {},
   "cell_type": "markdown",
   "metadata": {},
   "source": [
    "Let's take the derivative of $U$ with respect to $C_{i,2}$"
   ]
  },
  {
   "cell_type": "code",
   "execution_count": 5,
   "metadata": {},
   "outputs": [
    {
     "data": {
      "text/latex": [
       "$\\displaystyle \\frac{1}{C_{i2} \\left(\\rho + 1\\right)}$"
      ],
      "text/plain": [
       "1/(C_i2*(rho + 1))"
      ]
     },
     "execution_count": 5,
     "metadata": {},
     "output_type": "execute_result"
    }
   ],
   "source": [
    "sm.diff(U,c2)"
   ]
  },
  {
   "attachments": {},
   "cell_type": "markdown",
   "metadata": {},
   "source": [
    "## Sympy can turn your formulas into python functions.\n",
    "Use the `Lambdify` method which takes a function and an iterable as argument. In our case the function is utility and the iterable is consumption: "
   ]
  },
  {
   "cell_type": "code",
   "execution_count": 6,
   "metadata": {},
   "outputs": [
    {
     "name": "stdout",
     "output_type": "stream",
     "text": [
      "Utility for C1=10, C2=5 and rho=0.1: 3.77\n"
     ]
    }
   ],
   "source": [
    "# define utility as a lamba function\n",
    "util = sm.lambdify((c1,c2,rho),U)\n",
    "\n",
    "print(f'Utility for C1=10, C2=5 and rho=0.1: {util(10,5,0.1):.2f}')\n",
    "\n"
   ]
  },
  {
   "attachments": {},
   "cell_type": "markdown",
   "metadata": {},
   "source": [
    "# Let's try to optimize this "
   ]
  },
  {
   "cell_type": "code",
   "execution_count": 7,
   "metadata": {},
   "outputs": [
    {
     "name": "stderr",
     "output_type": "stream",
     "text": [
      "c:\\Users\\45238\\anaconda3\\lib\\site-packages\\scipy\\optimize\\_optimize.py:790: RuntimeWarning: invalid value encountered in subtract\n",
      "  np.max(np.abs(fsim[0] - fsim[1:])) <= fatol):\n"
     ]
    }
   ],
   "source": [
    "from scipy import optimize\n",
    "\n",
    "def obj(x): \n",
    "    if x[0] + x[1] > 10:  # Constraint, here if total consumption is above 10, utility is minus infinity. Could be a budget constraint maybe.\n",
    "        return -np.inf\n",
    "    else:\n",
    "        return - util(x[0], x[1], 0.1) # negative utility, because we want to optimize. Note that rho = 0.1\n",
    "opt = optimize.minimize(obj, #function\n",
    "                        x0 = [2,2], # Guess\n",
    "                        method = 'Nelder-Mead' #Method\n",
    "                        ) "
   ]
  },
  {
   "cell_type": "code",
   "execution_count": 8,
   "metadata": {},
   "outputs": [
    {
     "name": "stdout",
     "output_type": "stream",
     "text": [
      "\n",
      "    Optimal consumption in t=1: 7.45.\n",
      "    Optimal consumption in t=2: 3.27.\n",
      "    With utility: 3.09\n",
      "    \n"
     ]
    }
   ],
   "source": [
    "print(f'''\n",
    "    Optimal consumption in t=1: {round(opt.x[0], 2)}.\n",
    "    Optimal consumption in t=2: {round(opt.x[1],2)}.\n",
    "    With utility: {round(util(opt.x[0], opt.x[1], 0.1),2)}\n",
    "    ''')"
   ]
  },
  {
   "attachments": {},
   "cell_type": "markdown",
   "metadata": {},
   "source": [
    "# Problem set 6"
   ]
  }
 ],
 "metadata": {
  "kernelspec": {
   "display_name": "base",
   "language": "python",
   "name": "python3"
  },
  "language_info": {
   "codemirror_mode": {
    "name": "ipython",
    "version": 3
   },
   "file_extension": ".py",
   "mimetype": "text/x-python",
   "name": "python",
   "nbconvert_exporter": "python",
   "pygments_lexer": "ipython3",
   "version": "3.9.16"
  },
  "orig_nbformat": 4
 },
 "nbformat": 4,
 "nbformat_minor": 2
}
