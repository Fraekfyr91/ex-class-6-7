{
 "cells": [
  {
   "attachments": {},
   "cell_type": "markdown",
   "metadata": {},
   "source": [
    "# Welcome to Workshop 2 - Introduction to Programming and Numerical Analysis !!!"
   ]
  },
  {
   "attachments": {},
   "cell_type": "markdown",
   "metadata": {},
   "source": [
    "# Today\n",
    "- VS code follow-up\n",
    "- Group date show\n",
    "- Small start of notebook workflow"
   ]
  },
  {
   "attachments": {},
   "cell_type": "markdown",
   "metadata": {},
   "source": [
    "# I will now show you an example of:\n",
    "\n",
    "- Imports\n",
    "- Comment practice\n",
    "- A lambda function\n",
    "- List comprehension\n",
    "- Plotting\n",
    "- An f string with tex format\n"
   ]
  },
  {
   "cell_type": "code",
   "execution_count": null,
   "metadata": {},
   "outputs": [],
   "source": [
    "import matplotlib.pyplot as plt # for plotting\n",
    "import seaborn as sns           # for prettyness in plotting\n",
    "import numpy as np              # for numericals\n",
    "sns.set(style=\"whitegrid\")      # whitegrid make the plot ohh so pretty\n",
    "sns.set_palette(\"dark\")         # we like our palette as we like our coffee\n",
    "\n"
   ]
  },
  {
   "cell_type": "code",
   "execution_count": null,
   "metadata": {},
   "outputs": [],
   "source": [
    "# create a lambda function that takes 3, arguments. x is the function value, mu is the distribution mean, sigma is the standard deviation, \n",
    "# returns the probability density function\n",
    "pdf = lambda x, sigma, mu: 1 / (sigma * np.sqrt(2 * np.pi)) * np.exp(- 1 / 2*(( x - mu) / sigma)**2) \n",
    "\n",
    "mu = 3.41       # define variable mu\n",
    "sigma = 0.55    # define variable sigma\n",
    "\n",
    "# if mu = 0 and sigma = 1, pdf is standard normal\n",
    "\n",
    "grid = np.linspace(mu - 3 * sigma, mu + 3 * sigma, 1000) # create a grid for funciton evaluations and plotting\n",
    "vals = [pdf(i, sigma, mu) for i in grid]                 # list comprehension, provides list of pdf values on the grid\n",
    "\n",
    "# cumulative sum of probabilities divided by the sum of probabilities, returns the cumulative distibution function\n",
    "# for every value on the grid\n",
    "\n",
    "cdf = np.cumsum(vals) / np.sum(vals)        \n",
    "\n",
    "\n"
   ]
  },
  {
   "cell_type": "code",
   "execution_count": null,
   "metadata": {},
   "outputs": [],
   "source": [
    "\n",
    "fig, ax = plt.subplots(figsize=(10,6)) # defining a figue and axis\n",
    "ax.plot(grid, vals, label = 'PDF')     # plotting the proberbility density function, as a line plot\n",
    "ax.plot(grid, cdf, label = 'CDF')      # plotting the cumulative density function, as a line plot\n",
    "\n",
    "ax.axhline(y = 0.5, color = 'k', linestyle = ':', linewidth=.75) # plot horizontal line at p = 0.5\n",
    "ax.axvline(x = mu, color = 'k', linestyle = ':', linewidth=.75)  # plot vertical line at x = mu\n",
    "\n",
    "ax.text(x = mu - 2 * sigma, y = 0.85 , s = f' $\\mu$ = {mu}, $\\sigma$ = {sigma}')\n",
    "\n",
    "\n",
    "# Add title and axis labels\n",
    "plt.xlabel('X', fontsize = 14, fontweight = 'bold')     \n",
    "plt.ylabel('PDF(x), CDF(x)', fontsize=14, fontweight='bold')\n",
    "ax.grid(False, which = 'both', axis = 'x')  # remove some the grid in the plot\n",
    "ax.set_axisbelow(True)                      # ticks below axis, maybe they are anyway.\n",
    "\n",
    "# Add legend\n",
    "ax.legend()\n",
    "\n",
    "# Remove box around the plot\n",
    "ax.spines['top'].set_visible(False)\n",
    "ax.spines['right'].set_visible(False)\n",
    "ax.spines['bottom'].set_visible(False)\n",
    "ax.spines['left'].set_visible(False)\n",
    "\n",
    "# Change fontsize for axis labels and tick marks\n",
    "ax.tick_params(axis = 'both', labelsize = 14)\n",
    "\n",
    "\n"
   ]
  },
  {
   "cell_type": "code",
   "execution_count": null,
   "metadata": {},
   "outputs": [],
   "source": []
  }
 ],
 "metadata": {
  "kernelspec": {
   "display_name": "base",
   "language": "python",
   "name": "python3"
  },
  "language_info": {
   "codemirror_mode": {
    "name": "ipython",
    "version": 3
   },
   "file_extension": ".py",
   "mimetype": "text/x-python",
   "name": "python",
   "nbconvert_exporter": "python",
   "pygments_lexer": "ipython3",
   "version": "3.9.16"
  },
  "orig_nbformat": 4,
  "vscode": {
   "interpreter": {
    "hash": "49058cc55060abb4bc633e32186bb5153fb0a3058ff0315ffa5a851e9d943ce1"
   }
  }
 },
 "nbformat": 4,
 "nbformat_minor": 2
}
